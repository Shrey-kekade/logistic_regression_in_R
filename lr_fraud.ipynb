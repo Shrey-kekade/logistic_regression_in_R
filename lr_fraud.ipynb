{
 "cells": [
  {
   "cell_type": "markdown",
   "id": "7ab913d8-a17d-43e6-a5d8-6a25966293a3",
   "metadata": {},
   "source": [
    "# PART B: Logistic Regression"
   ]
  },
  {
   "cell_type": "markdown",
   "id": "3d2d46c3-8d4a-4a4d-9e54-deb3a5bc74ce",
   "metadata": {},
   "source": [
    "Shrey Sanjay Kekade  \n",
    "x23194316@student.ncirl.ie"
   ]
  },
  {
   "cell_type": "markdown",
   "id": "c06e031e-d1a8-47dc-9d01-0b766df3f6bb",
   "metadata": {},
   "source": [
    "# Import Libraries"
   ]
  },
  {
   "cell_type": "code",
   "execution_count": 1,
   "id": "64201b7a-39a7-4c11-b903-1a3e3efaab14",
   "metadata": {},
   "outputs": [
    {
     "name": "stderr",
     "output_type": "stream",
     "text": [
      "Warning message:\n",
      "\"package 'performanceEstimation' was built under R version 4.3.3\"\n",
      "Warning message:\n",
      "\"package 'caret' was built under R version 4.3.3\"\n",
      "Loading required package: ggplot2\n",
      "\n",
      "Warning message:\n",
      "\"package 'ggplot2' was built under R version 4.3.3\"\n",
      "Loading required package: lattice\n",
      "\n",
      "Warning message:\n",
      "\"package 'pROC' was built under R version 4.3.3\"\n",
      "Type 'citation(\"pROC\")' for a citation.\n",
      "\n",
      "\n",
      "Attaching package: 'pROC'\n",
      "\n",
      "\n",
      "The following objects are masked from 'package:stats':\n",
      "\n",
      "    cov, smooth, var\n",
      "\n",
      "\n",
      "Warning message:\n",
      "\"package 'ROSE' was built under R version 4.3.3\"\n",
      "Loaded ROSE 0.0-4\n",
      "\n",
      "\n",
      "Warning message:\n",
      "\"package 'corrplot' was built under R version 4.3.3\"\n",
      "corrplot 0.92 loaded\n",
      "\n",
      "Warning message:\n",
      "\"package 'dplyr' was built under R version 4.3.3\"\n",
      "\n",
      "Attaching package: 'dplyr'\n",
      "\n",
      "\n",
      "The following objects are masked from 'package:stats':\n",
      "\n",
      "    filter, lag\n",
      "\n",
      "\n",
      "The following objects are masked from 'package:base':\n",
      "\n",
      "    intersect, setdiff, setequal, union\n",
      "\n",
      "\n",
      "Warning message:\n",
      "\"package 'tidyr' was built under R version 4.3.3\"\n"
     ]
    }
   ],
   "source": [
    "library(performanceEstimation) # To perform SMOTE\n",
    "library(caret)                 # To split the data\n",
    "library(pROC)                  # To plot ROC curve\n",
    "library(ROSE)                  # To perform ROSE\n",
    "library(ggplot2)               # To plot histograms\n",
    "library(corrplot)              # To plot the correplot\n",
    "library(dplyr)                 # To manipulate data\n",
    "library(tidyr)                 # To create tidy data"
   ]
  },
  {
   "cell_type": "markdown",
   "id": "4b2f4f64-897a-426c-b49e-28a74c4f27cf",
   "metadata": {},
   "source": [
    "# Import Data"
   ]
  },
  {
   "cell_type": "code",
   "execution_count": 2,
   "id": "5064d566-0b07-4a7a-ba78-960bbab7ba50",
   "metadata": {},
   "outputs": [],
   "source": [
    "data <- read.csv('fraud.csv')"
   ]
  },
  {
   "cell_type": "markdown",
   "id": "f483aa82-7d15-4d06-b008-67bf51e622c0",
   "metadata": {},
   "source": [
    "## Analyse Class Imbalance"
   ]
  },
  {
   "cell_type": "code",
   "execution_count": 3,
   "id": "eadbb4c3-8a32-446b-bdde-fbd4127f0217",
   "metadata": {},
   "outputs": [
    {
     "data": {
      "text/plain": [
       "\n",
       "     0      1 \n",
       "283253    473 "
      ]
     },
     "metadata": {},
     "output_type": "display_data"
    },
    {
     "data": {
      "image/png": "[encoded data removed]",
      "text/plain": [
       "Plot with title \"Class distribution \""
      ]
     },
     "metadata": {
      "image/png": {
       "height": 420,
       "width": 420
      }
     },
     "output_type": "display_data"
    }
   ],
   "source": [
    "data$Class <- as.factor(data$Class)\n",
    "table(data$Class)\n",
    "\n",
    "# plot the class distribution\n",
    "plot(data$Class, main='Class distribution ', col=c('blue', 'orange'))"
   ]
  },
  {
   "cell_type": "code",
   "execution_count": 4,
   "id": "d651948b-5371-4527-9930-e9652baed5a5",
   "metadata": {},
   "outputs": [
    {
     "data": {
      "text/plain": [
       "\n",
       "          0           1 \n",
       "0.998332899 0.001667101 "
      ]
     },
     "metadata": {},
     "output_type": "display_data"
    }
   ],
   "source": [
    "data$Class<-as.factor(data$Class)\n",
    "prop.table(table(data$Class))"
   ]
  },
  {
   "cell_type": "markdown",
   "id": "11dfb8f3-e6b5-4b89-9245-a37049dd03a2",
   "metadata": {},
   "source": [
    "As we see the minority class number “1” is only about 0.166% of the total cases"
   ]
  },
  {
   "cell_type": "code",
   "execution_count": 5,
   "id": "e70acab1-5673-48bd-b5b7-cc92ee58d0c1",
   "metadata": {},
   "outputs": [
    {
     "data": {
      "text/plain": [
       "      Time              V1                   V2                  V3           \n",
       " Min.   :     0   Min.   :-28.956239   Min.   :-44.15838   Min.   :-32.03166  \n",
       " 1st Qu.: 54205   1st Qu.: -0.470195   1st Qu.: -0.36456   1st Qu.: -0.58971  \n",
       " Median : 84693   Median :  0.010464   Median :  0.03883   Median :  0.11928  \n",
       " Mean   : 94811   Mean   :  0.003038   Mean   : -0.00251   Mean   :  0.00107  \n",
       " 3rd Qu.:139298   3rd Qu.:  0.675590   3rd Qu.:  0.48599   3rd Qu.:  0.68070  \n",
       " Max.   :172792   Max.   :  1.260214   Max.   : 13.39509   Max.   :  6.21904  \n",
       "       V4                  V5                  V6           \n",
       " Min.   :-4.018693   Min.   :-82.60176   Min.   :-19.64104  \n",
       " 1st Qu.:-0.601148   1st Qu.: -0.50096   1st Qu.: -0.57738  \n",
       " Median :-0.015732   Median : -0.03883   Median : -0.20659  \n",
       " Mean   :-0.002098   Mean   :  0.00133   Mean   : -0.00086  \n",
       " 3rd Qu.: 0.523020   3rd Qu.:  0.44460   3rd Qu.:  0.29791  \n",
       " Max.   :11.932920   Max.   : 25.27339   Max.   : 55.03412  \n",
       "       V7                  V8                  V9            \n",
       " Min.   :-35.47978   Min.   :-62.09783   Min.   :-12.263038  \n",
       " 1st Qu.: -0.45005   1st Qu.: -0.17712   1st Qu.: -0.588065  \n",
       " Median :  0.03328   Median :  0.01857   Median : -0.048011  \n",
       " Mean   :  0.00147   Mean   : -0.00072   Mean   : -0.001457  \n",
       " 3rd Qu.:  0.46468   3rd Qu.:  0.27624   3rd Qu.:  0.544026  \n",
       " Max.   : 98.22680   Max.   : 16.96886   Max.   : 14.235602  \n",
       "      V10                  V11                 V12            \n",
       " Min.   :-22.842897   Min.   :-4.709314   Min.   :-18.783749  \n",
       " 1st Qu.: -0.497561   1st Qu.:-0.747653   1st Qu.: -0.408373  \n",
       " Median : -0.086618   Median :-0.031712   Median :  0.139817  \n",
       " Mean   : -0.001338   Mean   : 0.000198   Mean   : -0.000719  \n",
       " 3rd Qu.:  0.421419   3rd Qu.: 0.725989   3rd Qu.:  0.620280  \n",
       " Max.   : 22.059619   Max.   :11.798052   Max.   :  7.890413  \n",
       "      V13                 V14                  V15          \n",
       " Min.   :-5.818474   Min.   :-20.178556   Min.   :-4.91745  \n",
       " 1st Qu.:-0.650837   1st Qu.: -0.447097   1st Qu.:-0.63554  \n",
       " Median :-0.012986   Median :  0.052728   Median : 0.05389  \n",
       " Mean   : 0.000606   Mean   :  0.000265   Mean   : 0.00114  \n",
       " 3rd Qu.: 0.666223   3rd Qu.:  0.517042   3rd Qu.: 0.71058  \n",
       " Max.   : 7.159605   Max.   : 11.055030   Max.   : 9.70358  \n",
       "      V16                 V17                  V18            \n",
       " Min.   :-16.17250   Min.   :-29.866565   Min.   :-11.343445  \n",
       " 1st Qu.: -0.53435   1st Qu.: -0.574390   1st Qu.: -0.594731  \n",
       " Median :  0.07682   Median : -0.078180   Median : -0.002558  \n",
       " Mean   :  0.00133   Mean   :  0.000202   Mean   :  0.001809  \n",
       " 3rd Qu.:  0.59919   3rd Qu.:  0.473553   3rd Qu.:  0.599438  \n",
       " Max.   : 19.81823   Max.   : 10.983319   Max.   :  6.020067  \n",
       "      V19                 V20                 V21           \n",
       " Min.   :-8.868598   Min.   :-70.77771   Min.   :-48.11429  \n",
       " 1st Qu.:-0.560980   1st Qu.: -0.27464   1st Qu.: -0.31538  \n",
       " Median : 0.004140   Median : -0.08098   Median : -0.04067  \n",
       " Mean   :-0.000325   Mean   :  0.00024   Mean   : -0.00051  \n",
       " 3rd Qu.: 0.563708   3rd Qu.:  0.17300   3rd Qu.:  0.25721  \n",
       " Max.   : 6.874992   Max.   : 51.19703   Max.   : 37.57769  \n",
       "      V22                  V23                 V24           \n",
       " Min.   :-15.089554   Min.   :-71.84153   Min.   :-4.683788  \n",
       " 1st Qu.: -0.749016   1st Qu.: -0.25926   1st Qu.:-0.585267  \n",
       " Median :  0.009212   Median : -0.01789   Median : 0.067724  \n",
       " Mean   : -0.000021   Mean   :  0.00032   Mean   : 0.000354  \n",
       " 3rd Qu.:  0.729066   3rd Qu.:  0.23689   3rd Qu.: 0.726088  \n",
       " Max.   : 14.496009   Max.   : 36.12045   Max.   : 7.569926  \n",
       "      V25                  V26                V27           \n",
       " Min.   :-19.752486   Min.   :-5.40304   Min.   :-57.02092  \n",
       " 1st Qu.: -0.609119   1st Qu.:-0.67786   1st Qu.: -0.17850  \n",
       " Median :  0.031231   Median :-0.10823   Median :  0.00374  \n",
       " Mean   : -0.000446   Mean   : 0.00031   Mean   :  0.00445  \n",
       " 3rd Qu.:  0.672781   3rd Qu.: 0.49841   3rd Qu.:  0.23047  \n",
       " Max.   : 14.426891   Max.   : 7.29660   Max.   : 79.88045  \n",
       "      V28                Amount         Class     \n",
       " Min.   :-47.03912   Min.   :    0.00   0:283253  \n",
       " 1st Qu.: -0.16102   1st Qu.:    5.60   1:   473  \n",
       " Median :  0.03441   Median :   22.00             \n",
       " Mean   :  0.00167   Mean   :   88.47             \n",
       " 3rd Qu.:  0.23863   3rd Qu.:   77.51             \n",
       " Max.   :103.18617   Max.   :25691.16             "
      ]
     },
     "metadata": {},
     "output_type": "display_data"
    }
   ],
   "source": [
    "summary(data)"
   ]
  },
  {
   "cell_type": "markdown",
   "id": "dce7fe64-c40d-4ea3-b669-104ca7ae6b3b",
   "metadata": {},
   "source": [
    "# Histograms of variables"
   ]
  },
  {
   "cell_type": "code",
   "execution_count": 6,
   "id": "ac90c7d4-baf1-4a11-87e4-8e05b873f40d",
   "metadata": {},
   "outputs": [
    {
     "data": {
      "image/png": "[encoded data removed]",
      "text/plain": [
       "Plot with title \"Histogram of V15\""
      ]
     },
     "metadata": {
      "image/png": {
       "height": 420,
       "width": 420
      }
     },
     "output_type": "display_data"
    },
    {
     "data": {
      "image/png": "[encoded data removed]",
      "text/plain": [
       "Plot with title \"Counts of Class\""
      ]
     },
     "metadata": {
      "image/png": {
       "height": 420,
       "width": 420
      }
     },
     "output_type": "display_data"
    }
   ],
   "source": [
    "par(mfrow = c(4, 4))\n",
    "# Loop through each column\n",
    "for (col_name in names(data)) {\n",
    "  if (col_name == \"Class\") {\n",
    "    # Create a bar plot for the Class column\n",
    "    class_counts <- table(data[[col_name]])\n",
    "    barplot(class_counts, main = paste(\"Counts of\", col_name), xlab = col_name, col = \"lightblue\", border = \"black\")\n",
    "  } else {\n",
    "    # Create a histogram for numeric columns\n",
    "    if (is.numeric(data[[col_name]])) {\n",
    "      hist(data[[col_name]], main = paste(\"Histogram of\", col_name), xlab = col_name, col = \"lightblue\", border = \"black\")\n",
    "    }\n",
    "  }\n",
    "}\n"
   ]
  },
  {
   "cell_type": "markdown",
   "id": "8f6f0204-9ed6-4321-a62f-3e976b17efe4",
   "metadata": {},
   "source": [
    "## Correlation"
   ]
  },
  {
   "cell_type": "code",
   "execution_count": 7,
   "id": "b977456a-a575-4caa-b10a-71eee03cd04c",
   "metadata": {},
   "outputs": [],
   "source": [
    "# Select only numeric columns\n",
    "numeric_columns <- sapply(data, is.numeric)\n",
    "numeric_data <- data[, numeric_columns]"
   ]
  },
  {
   "cell_type": "code",
   "execution_count": 8,
   "id": "8b910204-7643-4c3d-b07c-75b53bd7a0ae",
   "metadata": {},
   "outputs": [
    {
     "data": {
      "text/html": [
       "<table class=\"dataframe\">\n",
       "<caption>A matrix: 30 × 30 of type dbl</caption>\n",
       "<thead>\n",
       "\t<tr><th></th><th scope=col>Time</th><th scope=col>V1</th><th scope=col>V2</th><th scope=col>V3</th><th scope=col>V4</th><th scope=col>V5</th><th scope=col>V6</th><th scope=col>V7</th><th scope=col>V8</th><th scope=col>V9</th><th scope=col>⋯</th><th scope=col>V20</th><th scope=col>V21</th><th scope=col>V22</th><th scope=col>V23</th><th scope=col>V24</th><th scope=col>V25</th><th scope=col>V26</th><th scope=col>V27</th><th scope=col>V28</th><th scope=col>Amount</th></tr>\n",
       "</thead>\n",
       "<tbody>\n",
       "\t<tr><th scope=row>Time</th><td> 1.000000000</td><td> 0.1179266030</td><td>-0.0105555719</td><td>-4.220538e-01</td><td>-0.1058448928</td><td> 1.732230e-01</td><td>-6.327934e-02</td><td> 8.533518e-02</td><td>-3.820313e-02</td><td>-7.861473e-03</td><td>⋯</td><td>-5.102152e-02</td><td> 0.0459126634</td><td> 1.437273e-01</td><td> 5.147407e-02</td><td>-1.595427e-02</td><td>-2.332616e-01</td><td>-4.181832e-02</td><td>-5.171416e-03</td><td>-9.304984e-03</td><td>-1.055883e-02</td></tr>\n",
       "\t<tr><th scope=row>V1</th><td> 0.117926603</td><td> 1.0000000000</td><td> 0.0068749355</td><td>-8.111812e-03</td><td> 0.0022573276</td><td>-7.036016e-03</td><td> 4.128357e-04</td><td>-9.173080e-03</td><td>-1.168269e-03</td><td> 1.828040e-03</td><td>⋯</td><td>-1.392896e-03</td><td> 0.0028175227</td><td>-1.436252e-03</td><td>-1.330430e-03</td><td>-7.230448e-04</td><td>-2.224914e-04</td><td>-6.836594e-04</td><td>-1.570619e-02</td><td>-4.860581e-03</td><td>-2.301053e-01</td></tr>\n",
       "\t<tr><th scope=row>V2</th><td>-0.010555572</td><td> 0.0068749355</td><td> 1.0000000000</td><td> 5.278252e-03</td><td>-0.0014952611</td><td> 5.209894e-03</td><td>-5.944499e-04</td><td> 7.424774e-03</td><td> 2.899226e-03</td><td>-2.739687e-04</td><td>⋯</td><td>-1.287459e-03</td><td>-0.0048971648</td><td> 1.237130e-03</td><td>-3.854664e-03</td><td> 7.005669e-04</td><td>-1.569123e-03</td><td> 2.532207e-04</td><td> 7.554740e-03</td><td> 1.611321e-03</td><td>-5.334280e-01</td></tr>\n",
       "\t<tr><th scope=row>V3</th><td>-0.422053810</td><td>-0.0081118122</td><td> 0.0052782517</td><td> 1.000000e+00</td><td> 0.0028287819</td><td>-6.878571e-03</td><td>-1.511482e-03</td><td>-1.172139e-02</td><td>-1.814670e-03</td><td>-3.578921e-03</td><td>⋯</td><td>-2.268501e-03</td><td> 0.0034998716</td><td>-2.747377e-04</td><td> 4.490740e-04</td><td>-7.219221e-05</td><td> 4.251038e-04</td><td>-9.431455e-05</td><td>-7.050644e-03</td><td>-1.341624e-04</td><td>-2.124100e-01</td></tr>\n",
       "\t<tr><th scope=row>V4</th><td>-0.105844893</td><td> 0.0022573276</td><td>-0.0014952611</td><td> 2.828782e-03</td><td> 1.0000000000</td><td> 1.744216e-03</td><td>-8.804138e-04</td><td> 4.656984e-03</td><td> 8.904924e-04</td><td> 2.154400e-03</td><td>⋯</td><td> 3.181437e-04</td><td>-0.0010337817</td><td> 1.154014e-04</td><td> 7.320911e-04</td><td>-1.198895e-04</td><td> 1.616877e-04</td><td> 7.769988e-04</td><td> 1.321989e-03</td><td> 2.310926e-04</td><td> 9.951434e-02</td></tr>\n",
       "\t<tr><th scope=row>V5</th><td> 0.173223011</td><td>-0.0070360158</td><td> 0.0052098935</td><td>-6.878571e-03</td><td> 0.0017442162</td><td> 1.000000e+00</td><td>-9.375118e-04</td><td>-8.708848e-03</td><td> 1.430492e-03</td><td>-1.212831e-03</td><td>⋯</td><td>-1.184740e-03</td><td> 0.0016223475</td><td>-5.587086e-04</td><td> 1.183230e-03</td><td> 1.978853e-04</td><td> 6.905195e-05</td><td> 3.904259e-04</td><td>-5.798027e-03</td><td>-8.200772e-04</td><td>-3.876853e-01</td></tr>\n",
       "\t<tr><th scope=row>V6</th><td>-0.063279338</td><td> 0.0004128357</td><td>-0.0005944499</td><td>-1.511482e-03</td><td>-0.0008804138</td><td>-9.375118e-04</td><td> 1.000000e+00</td><td> 4.363105e-04</td><td> 3.035786e-03</td><td>-7.338978e-04</td><td>⋯</td><td>-1.810128e-04</td><td>-0.0021336821</td><td> 1.103627e-03</td><td>-7.553723e-04</td><td> 1.202149e-03</td><td> 6.970064e-04</td><td>-2.803859e-05</td><td> 2.892465e-04</td><td> 9.246284e-04</td><td> 2.163888e-01</td></tr>\n",
       "\t<tr><th scope=row>V7</th><td> 0.085335181</td><td>-0.0091730804</td><td> 0.0074247740</td><td>-1.172139e-02</td><td> 0.0046569837</td><td>-8.708848e-03</td><td> 4.363105e-04</td><td> 1.000000e+00</td><td>-6.419315e-03</td><td>-4.921428e-03</td><td>⋯</td><td>-1.192162e-03</td><td> 0.0090101010</td><td>-2.280236e-03</td><td> 3.303484e-03</td><td>-3.844088e-04</td><td>-7.247179e-05</td><td> 6.238846e-04</td><td>-4.536867e-03</td><td> 1.656569e-03</td><td> 4.004080e-01</td></tr>\n",
       "\t<tr><th scope=row>V8</th><td>-0.038203126</td><td>-0.0011682694</td><td> 0.0028992257</td><td>-1.814670e-03</td><td> 0.0008904924</td><td> 1.430492e-03</td><td> 3.035786e-03</td><td>-6.419315e-03</td><td> 1.000000e+00</td><td> 1.038355e-03</td><td>⋯</td><td> 2.714638e-04</td><td> 0.0188922857</td><td>-6.156169e-03</td><td> 4.993690e-03</td><td> 1.125062e-04</td><td> 1.062315e-05</td><td>-1.406784e-03</td><td> 6.132571e-04</td><td>-9.929007e-05</td><td>-1.046616e-01</td></tr>\n",
       "\t<tr><th scope=row>V9</th><td>-0.007861473</td><td> 0.0018280398</td><td>-0.0002739687</td><td>-3.578921e-03</td><td> 0.0021543998</td><td>-1.212831e-03</td><td>-7.338978e-04</td><td>-4.921428e-03</td><td> 1.038355e-03</td><td> 1.000000e+00</td><td>⋯</td><td>-1.837668e-03</td><td> 0.0006787735</td><td> 7.845610e-04</td><td> 6.768840e-04</td><td>-1.030833e-04</td><td>-2.751723e-04</td><td> 1.253499e-03</td><td> 8.221063e-03</td><td> 5.591210e-03</td><td>-4.412251e-02</td></tr>\n",
       "\t<tr><th scope=row>V10</th><td> 0.031068100</td><td> 0.0008152214</td><td> 0.0006204527</td><td>-9.632286e-03</td><td> 0.0027529558</td><td>-6.049529e-03</td><td>-2.179665e-03</td><td>-1.361707e-02</td><td> 4.809098e-04</td><td>-1.261272e-02</td><td>⋯</td><td>-4.448341e-03</td><td> 0.0037771150</td><td>-4.809226e-04</td><td> 1.916617e-03</td><td> 1.544456e-04</td><td>-5.646353e-04</td><td> 1.088877e-03</td><td> 1.076930e-02</td><td> 9.158577e-03</td><td>-1.022549e-01</td></tr>\n",
       "\t<tr><th scope=row>V11</th><td>-0.248535957</td><td> 0.0010280856</td><td>-0.0006332422</td><td> 2.339002e-03</td><td>-0.0012228392</td><td> 4.112367e-04</td><td>-2.110857e-04</td><td> 2.454390e-03</td><td> 4.687841e-03</td><td>-2.171764e-04</td><td>⋯</td><td>-9.890491e-04</td><td>-0.0027602034</td><td>-1.502572e-04</td><td>-3.669861e-05</td><td> 7.954333e-05</td><td> 4.720072e-05</td><td>-2.038474e-04</td><td> 1.986852e-03</td><td> 2.562344e-03</td><td>-1.474531e-05</td></tr>\n",
       "\t<tr><th scope=row>V12</th><td> 0.125500230</td><td>-0.0015237429</td><td> 0.0022663718</td><td>-5.900173e-03</td><td> 0.0033657176</td><td>-2.341675e-03</td><td>-1.185153e-03</td><td>-6.153104e-03</td><td>-4.413663e-03</td><td>-2.384596e-03</td><td>⋯</td><td> 1.168765e-03</td><td> 0.0032852660</td><td> 1.510595e-04</td><td> 4.858720e-04</td><td> 5.876584e-04</td><td>-1.807479e-04</td><td>-1.383779e-04</td><td>-9.285294e-04</td><td>-6.131804e-04</td><td>-9.254235e-03</td></tr>\n",
       "\t<tr><th scope=row>V13</th><td>-0.065958111</td><td>-0.0005675426</td><td> 0.0006796344</td><td> 1.132795e-04</td><td> 0.0001774350</td><td> 1.918077e-05</td><td> 3.971071e-04</td><td>-1.700721e-04</td><td>-1.381071e-03</td><td> 7.450416e-04</td><td>⋯</td><td> 3.787814e-04</td><td> 0.0005224291</td><td> 1.645609e-05</td><td> 2.518461e-04</td><td>-4.889666e-05</td><td> 2.480321e-04</td><td>-1.014763e-04</td><td>-1.577183e-03</td><td>-6.039264e-04</td><td> 5.208901e-03</td></tr>\n",
       "\t<tr><th scope=row>V14</th><td>-0.100316042</td><td>-0.0026627890</td><td> 0.0027111420</td><td>-3.027373e-03</td><td> 0.0028006572</td><td>-1.000292e-03</td><td> 1.835359e-04</td><td>-3.815508e-03</td><td>-8.387034e-03</td><td> 1.981400e-03</td><td>⋯</td><td> 2.725583e-03</td><td> 0.0056334790</td><td>-1.906301e-03</td><td> 6.656973e-04</td><td>-2.632084e-05</td><td> 1.553859e-04</td><td>-7.020277e-04</td><td>-4.556006e-03</td><td>-4.664263e-03</td><td> 3.412161e-02</td></tr>\n",
       "\t<tr><th scope=row>V15</th><td>-0.184391986</td><td>-0.0006024775</td><td> 0.0015377416</td><td>-1.230119e-03</td><td> 0.0005723100</td><td>-1.170667e-03</td><td>-4.701071e-04</td><td>-1.393603e-03</td><td> 1.044107e-03</td><td>-2.829960e-04</td><td>⋯</td><td>-7.540547e-04</td><td>-0.0002707160</td><td>-1.196935e-03</td><td> 9.690520e-04</td><td> 1.125783e-04</td><td> 4.447777e-04</td><td>-2.034013e-03</td><td>-6.413876e-04</td><td> 8.583620e-04</td><td>-3.264675e-03</td></tr>\n",
       "\t<tr><th scope=row>V16</th><td> 0.011286429</td><td>-0.0033454079</td><td> 0.0040127579</td><td>-4.430372e-03</td><td> 0.0033463957</td><td>-2.373094e-03</td><td> 1.222525e-04</td><td>-5.944411e-03</td><td>-4.375544e-03</td><td>-8.635262e-05</td><td>⋯</td><td> 1.067034e-03</td><td> 0.0043264891</td><td>-8.201713e-04</td><td> 1.208950e-03</td><td>-4.817937e-04</td><td> 2.149317e-04</td><td>-1.244830e-03</td><td>-3.973720e-03</td><td>-1.628778e-03</td><td>-4.488172e-03</td></tr>\n",
       "\t<tr><th scope=row>V17</th><td>-0.073819211</td><td>-0.0034909758</td><td> 0.0032441615</td><td>-8.159065e-03</td><td> 0.0036554990</td><td>-4.466238e-03</td><td>-1.716173e-03</td><td>-8.793767e-03</td><td>-5.575898e-03</td><td>-2.317901e-03</td><td>⋯</td><td> 1.518239e-03</td><td> 0.0035596127</td><td>-1.621056e-04</td><td> 6.673954e-04</td><td> 1.006138e-03</td><td>-6.845365e-04</td><td> 1.568409e-04</td><td>-3.420602e-03</td><td>-2.702573e-03</td><td> 7.730195e-03</td></tr>\n",
       "\t<tr><th scope=row>V18</th><td> 0.090305425</td><td>-0.0035352301</td><td> 0.0024765548</td><td>-3.494744e-03</td><td> 0.0023245465</td><td>-2.685420e-03</td><td> 5.406375e-04</td><td>-4.279136e-03</td><td>-1.323469e-03</td><td>-3.729942e-04</td><td>⋯</td><td>-2.447825e-04</td><td> 0.0016289501</td><td>-5.332961e-04</td><td> 2.401797e-04</td><td>-7.102012e-04</td><td>-5.589505e-04</td><td>-5.962489e-04</td><td>-4.230567e-03</td><td>-1.256500e-03</td><td> 3.577524e-02</td></tr>\n",
       "\t<tr><th scope=row>V19</th><td> 0.029536703</td><td> 0.0009192076</td><td>-0.0003582541</td><td>-1.579591e-05</td><td>-0.0005603806</td><td> 4.361496e-04</td><td> 1.057115e-04</td><td> 8.461490e-04</td><td>-6.258693e-04</td><td> 2.472656e-04</td><td>⋯</td><td>-2.693916e-04</td><td> 0.0002435329</td><td> 1.341664e-03</td><td> 3.808831e-04</td><td>-1.118659e-04</td><td>-8.428859e-05</td><td> 8.557074e-04</td><td>-5.438294e-04</td><td> 3.531070e-04</td><td>-5.599398e-02</td></tr>\n",
       "\t<tr><th scope=row>V20</th><td>-0.051021519</td><td>-0.0013928957</td><td>-0.0012874592</td><td>-2.268501e-03</td><td> 0.0003181437</td><td>-1.184740e-03</td><td>-1.810128e-04</td><td>-1.192162e-03</td><td> 2.714638e-04</td><td>-1.837668e-03</td><td>⋯</td><td> 1.000000e+00</td><td> 0.0053724441</td><td>-1.616558e-03</td><td>-1.094231e-03</td><td>-3.026628e-04</td><td>-6.432090e-04</td><td>-3.104050e-04</td><td>-4.893696e-05</td><td> 2.671098e-03</td><td> 3.407286e-01</td></tr>\n",
       "\t<tr><th scope=row>V21</th><td> 0.045912663</td><td> 0.0028175227</td><td>-0.0048971648</td><td> 3.499872e-03</td><td>-0.0010337817</td><td> 1.622347e-03</td><td>-2.133682e-03</td><td> 9.010101e-03</td><td> 1.889229e-02</td><td> 6.787735e-04</td><td>⋯</td><td> 5.372444e-03</td><td> 1.0000000000</td><td> 9.645297e-03</td><td>-6.391102e-03</td><td> 1.210213e-03</td><td>-8.724679e-04</td><td>-8.738995e-04</td><td>-5.216488e-03</td><td>-4.436379e-03</td><td> 1.080576e-01</td></tr>\n",
       "\t<tr><th scope=row>V22</th><td> 0.143727253</td><td>-0.0014362518</td><td> 0.0012371297</td><td>-2.747377e-04</td><td> 0.0001154014</td><td>-5.587086e-04</td><td> 1.103627e-03</td><td>-2.280236e-03</td><td>-6.156169e-03</td><td> 7.845610e-04</td><td>⋯</td><td>-1.616558e-03</td><td> 0.0096452970</td><td> 1.000000e+00</td><td> 1.929377e-03</td><td>-3.143970e-05</td><td> 1.974412e-04</td><td>-1.495264e-03</td><td> 3.037155e-03</td><td> 1.392390e-03</td><td>-6.496476e-02</td></tr>\n",
       "\t<tr><th scope=row>V23</th><td> 0.051474067</td><td>-0.0013304300</td><td>-0.0038546637</td><td> 4.490740e-04</td><td> 0.0007320911</td><td> 1.183230e-03</td><td>-7.553723e-04</td><td> 3.303484e-03</td><td> 4.993690e-03</td><td> 6.768840e-04</td><td>⋯</td><td>-1.094231e-03</td><td>-0.0063911021</td><td> 1.929377e-03</td><td> 1.000000e+00</td><td> 2.727045e-04</td><td>-5.319791e-04</td><td>-1.853913e-04</td><td>-2.027701e-03</td><td>-3.223704e-03</td><td>-1.128325e-01</td></tr>\n",
       "\t<tr><th scope=row>V24</th><td>-0.015954267</td><td>-0.0007230448</td><td> 0.0007005669</td><td>-7.219221e-05</td><td>-0.0001198895</td><td> 1.978853e-04</td><td> 1.202149e-03</td><td>-3.844088e-04</td><td> 1.125062e-04</td><td>-1.030833e-04</td><td>⋯</td><td>-3.026628e-04</td><td> 0.0012102129</td><td>-3.143970e-05</td><td> 2.727045e-04</td><td> 1.000000e+00</td><td>-1.880657e-04</td><td> 5.677724e-04</td><td>-8.847188e-04</td><td> 3.220294e-04</td><td> 5.054928e-03</td></tr>\n",
       "\t<tr><th scope=row>V25</th><td>-0.233261639</td><td>-0.0002224914</td><td>-0.0015691227</td><td> 4.251038e-04</td><td> 0.0001616877</td><td> 6.905195e-05</td><td> 6.970064e-04</td><td>-7.247179e-05</td><td> 1.062315e-05</td><td>-2.751723e-04</td><td>⋯</td><td>-6.432090e-04</td><td>-0.0008724679</td><td> 1.974412e-04</td><td>-5.319791e-04</td><td>-1.880657e-04</td><td> 1.000000e+00</td><td> 4.787742e-05</td><td>-1.338555e-03</td><td>-5.654670e-04</td><td>-4.759606e-02</td></tr>\n",
       "\t<tr><th scope=row>V26</th><td>-0.041818325</td><td>-0.0006836594</td><td> 0.0002532207</td><td>-9.431455e-05</td><td> 0.0007769988</td><td> 3.904259e-04</td><td>-2.803859e-05</td><td> 6.238846e-04</td><td>-1.406784e-03</td><td> 1.253499e-03</td><td>⋯</td><td>-3.104050e-04</td><td>-0.0008738995</td><td>-1.495264e-03</td><td>-1.853913e-04</td><td> 5.677724e-04</td><td> 4.787742e-05</td><td> 1.000000e+00</td><td>-3.294447e-03</td><td>-9.989490e-04</td><td>-3.424846e-03</td></tr>\n",
       "\t<tr><th scope=row>V27</th><td>-0.005171416</td><td>-0.0157061918</td><td> 0.0075547402</td><td>-7.050644e-03</td><td> 0.0013219888</td><td>-5.798027e-03</td><td> 2.892465e-04</td><td>-4.536867e-03</td><td> 6.132571e-04</td><td> 8.221063e-03</td><td>⋯</td><td>-4.893696e-05</td><td>-0.0052164878</td><td> 3.037155e-03</td><td>-2.027701e-03</td><td>-8.847188e-04</td><td>-1.338555e-03</td><td>-3.294447e-03</td><td> 1.000000e+00</td><td>-1.395043e-02</td><td> 2.792173e-02</td></tr>\n",
       "\t<tr><th scope=row>V28</th><td>-0.009304984</td><td>-0.0048605806</td><td> 0.0016113207</td><td>-1.341624e-04</td><td> 0.0002310926</td><td>-8.200772e-04</td><td> 9.246284e-04</td><td> 1.656569e-03</td><td>-9.929007e-05</td><td> 5.591210e-03</td><td>⋯</td><td> 2.671098e-03</td><td>-0.0044363788</td><td> 1.392390e-03</td><td>-3.223704e-03</td><td> 3.220294e-04</td><td>-5.654670e-04</td><td>-9.989490e-04</td><td>-1.395043e-02</td><td> 1.000000e+00</td><td> 1.014349e-02</td></tr>\n",
       "\t<tr><th scope=row>Amount</th><td>-0.010558834</td><td>-0.2301053027</td><td>-0.5334280139</td><td>-2.124100e-01</td><td> 0.0995143383</td><td>-3.876853e-01</td><td> 2.163888e-01</td><td> 4.004080e-01</td><td>-1.046616e-01</td><td>-4.412251e-02</td><td>⋯</td><td> 3.407286e-01</td><td> 0.1080576160</td><td>-6.496476e-02</td><td>-1.128325e-01</td><td> 5.054928e-03</td><td>-4.759606e-02</td><td>-3.424846e-03</td><td> 2.792173e-02</td><td> 1.014349e-02</td><td> 1.000000e+00</td></tr>\n",
       "</tbody>\n",
       "</table>\n"
      ],
      "text/latex": [
       "A matrix: 30 × 30 of type dbl\n",
       "\\begin{tabular}{r|lllllllllllllllllllll}\n",
       "  & Time & V1 & V2 & V3 & V4 & V5 & V6 & V7 & V8 & V9 & ⋯ & V20 & V21 & V22 & V23 & V24 & V25 & V26 & V27 & V28 & Amount\\\\\n",
       "\\hline\n",
       "\tTime &  1.000000000 &  0.1179266030 & -0.0105555719 & -4.220538e-01 & -0.1058448928 &  1.732230e-01 & -6.327934e-02 &  8.533518e-02 & -3.820313e-02 & -7.861473e-03 & ⋯ & -5.102152e-02 &  0.0459126634 &  1.437273e-01 &  5.147407e-02 & -1.595427e-02 & -2.332616e-01 & -4.181832e-02 & -5.171416e-03 & -9.304984e-03 & -1.055883e-02\\\\\n",
       "\tV1 &  0.117926603 &  1.0000000000 &  0.0068749355 & -8.111812e-03 &  0.0022573276 & -7.036016e-03 &  4.128357e-04 & -9.173080e-03 & -1.168269e-03 &  1.828040e-03 & ⋯ & -1.392896e-03 &  0.0028175227 & -1.436252e-03 & -1.330430e-03 & -7.230448e-04 & -2.224914e-04 & -6.836594e-04 & -1.570619e-02 & -4.860581e-03 & -2.301053e-01\\\\\n",
       "\tV2 & -0.010555572 &  0.0068749355 &  1.0000000000 &  5.278252e-03 & -0.0014952611 &  5.209894e-03 & -5.944499e-04 &  7.424774e-03 &  2.899226e-03 & -2.739687e-04 & ⋯ & -1.287459e-03 & -0.0048971648 &  1.237130e-03 & -3.854664e-03 &  7.005669e-04 & -1.569123e-03 &  2.532207e-04 &  7.554740e-03 &  1.611321e-03 & -5.334280e-01\\\\\n",
       "\tV3 & -0.422053810 & -0.0081118122 &  0.0052782517 &  1.000000e+00 &  0.0028287819 & -6.878571e-03 & -1.511482e-03 & -1.172139e-02 & -1.814670e-03 & -3.578921e-03 & ⋯ & -2.268501e-03 &  0.0034998716 & -2.747377e-04 &  4.490740e-04 & -7.219221e-05 &  4.251038e-04 & -9.431455e-05 & -7.050644e-03 & -1.341624e-04 & -2.124100e-01\\\\\n",
       "\tV4 & -0.105844893 &  0.0022573276 & -0.0014952611 &  2.828782e-03 &  1.0000000000 &  1.744216e-03 & -8.804138e-04 &  4.656984e-03 &  8.904924e-04 &  2.154400e-03 & ⋯ &  3.181437e-04 & -0.0010337817 &  1.154014e-04 &  7.320911e-04 & -1.198895e-04 &  1.616877e-04 &  7.769988e-04 &  1.321989e-03 &  2.310926e-04 &  9.951434e-02\\\\\n",
       "\tV5 &  0.173223011 & -0.0070360158 &  0.0052098935 & -6.878571e-03 &  0.0017442162 &  1.000000e+00 & -9.375118e-04 & -8.708848e-03 &  1.430492e-03 & -1.212831e-03 & ⋯ & -1.184740e-03 &  0.0016223475 & -5.587086e-04 &  1.183230e-03 &  1.978853e-04 &  6.905195e-05 &  3.904259e-04 & -5.798027e-03 & -8.200772e-04 & -3.876853e-01\\\\\n",
       "\tV6 & -0.063279338 &  0.0004128357 & -0.0005944499 & -1.511482e-03 & -0.0008804138 & -9.375118e-04 &  1.000000e+00 &  4.363105e-04 &  3.035786e-03 & -7.338978e-04 & ⋯ & -1.810128e-04 & -0.0021336821 &  1.103627e-03 & -7.553723e-04 &  1.202149e-03 &  6.970064e-04 & -2.803859e-05 &  2.892465e-04 &  9.246284e-04 &  2.163888e-01\\\\\n",
       "\tV7 &  0.085335181 & -0.0091730804 &  0.0074247740 & -1.172139e-02 &  0.0046569837 & -8.708848e-03 &  4.363105e-04 &  1.000000e+00 & -6.419315e-03 & -4.921428e-03 & ⋯ & -1.192162e-03 &  0.0090101010 & -2.280236e-03 &  3.303484e-03 & -3.844088e-04 & -7.247179e-05 &  6.238846e-04 & -4.536867e-03 &  1.656569e-03 &  4.004080e-01\\\\\n",
       "\tV8 & -0.038203126 & -0.0011682694 &  0.0028992257 & -1.814670e-03 &  0.0008904924 &  1.430492e-03 &  3.035786e-03 & -6.419315e-03 &  1.000000e+00 &  1.038355e-03 & ⋯ &  2.714638e-04 &  0.0188922857 & -6.156169e-03 &  4.993690e-03 &  1.125062e-04 &  1.062315e-05 & -1.406784e-03 &  6.132571e-04 & -9.929007e-05 & -1.046616e-01\\\\\n",
       "\tV9 & -0.007861473 &  0.0018280398 & -0.0002739687 & -3.578921e-03 &  0.0021543998 & -1.212831e-03 & -7.338978e-04 & -4.921428e-03 &  1.038355e-03 &  1.000000e+00 & ⋯ & -1.837668e-03 &  0.0006787735 &  7.845610e-04 &  6.768840e-04 & -1.030833e-04 & -2.751723e-04 &  1.253499e-03 &  8.221063e-03 &  5.591210e-03 & -4.412251e-02\\\\\n",
       "\tV10 &  0.031068100 &  0.0008152214 &  0.0006204527 & -9.632286e-03 &  0.0027529558 & -6.049529e-03 & -2.179665e-03 & -1.361707e-02 &  4.809098e-04 & -1.261272e-02 & ⋯ & -4.448341e-03 &  0.0037771150 & -4.809226e-04 &  1.916617e-03 &  1.544456e-04 & -5.646353e-04 &  1.088877e-03 &  1.076930e-02 &  9.158577e-03 & -1.022549e-01\\\\\n",
       "\tV11 & -0.248535957 &  0.0010280856 & -0.0006332422 &  2.339002e-03 & -0.0012228392 &  4.112367e-04 & -2.110857e-04 &  2.454390e-03 &  4.687841e-03 & -2.171764e-04 & ⋯ & -9.890491e-04 & -0.0027602034 & -1.502572e-04 & -3.669861e-05 &  7.954333e-05 &  4.720072e-05 & -2.038474e-04 &  1.986852e-03 &  2.562344e-03 & -1.474531e-05\\\\\n",
       "\tV12 &  0.125500230 & -0.0015237429 &  0.0022663718 & -5.900173e-03 &  0.0033657176 & -2.341675e-03 & -1.185153e-03 & -6.153104e-03 & -4.413663e-03 & -2.384596e-03 & ⋯ &  1.168765e-03 &  0.0032852660 &  1.510595e-04 &  4.858720e-04 &  5.876584e-04 & -1.807479e-04 & -1.383779e-04 & -9.285294e-04 & -6.131804e-04 & -9.254235e-03\\\\\n",
       "\tV13 & -0.065958111 & -0.0005675426 &  0.0006796344 &  1.132795e-04 &  0.0001774350 &  1.918077e-05 &  3.971071e-04 & -1.700721e-04 & -1.381071e-03 &  7.450416e-04 & ⋯ &  3.787814e-04 &  0.0005224291 &  1.645609e-05 &  2.518461e-04 & -4.889666e-05 &  2.480321e-04 & -1.014763e-04 & -1.577183e-03 & -6.039264e-04 &  5.208901e-03\\\\\n",
       "\tV14 & -0.100316042 & -0.0026627890 &  0.0027111420 & -3.027373e-03 &  0.0028006572 & -1.000292e-03 &  1.835359e-04 & -3.815508e-03 & -8.387034e-03 &  1.981400e-03 & ⋯ &  2.725583e-03 &  0.0056334790 & -1.906301e-03 &  6.656973e-04 & -2.632084e-05 &  1.553859e-04 & -7.020277e-04 & -4.556006e-03 & -4.664263e-03 &  3.412161e-02\\\\\n",
       "\tV15 & -0.184391986 & -0.0006024775 &  0.0015377416 & -1.230119e-03 &  0.0005723100 & -1.170667e-03 & -4.701071e-04 & -1.393603e-03 &  1.044107e-03 & -2.829960e-04 & ⋯ & -7.540547e-04 & -0.0002707160 & -1.196935e-03 &  9.690520e-04 &  1.125783e-04 &  4.447777e-04 & -2.034013e-03 & -6.413876e-04 &  8.583620e-04 & -3.264675e-03\\\\\n",
       "\tV16 &  0.011286429 & -0.0033454079 &  0.0040127579 & -4.430372e-03 &  0.0033463957 & -2.373094e-03 &  1.222525e-04 & -5.944411e-03 & -4.375544e-03 & -8.635262e-05 & ⋯ &  1.067034e-03 &  0.0043264891 & -8.201713e-04 &  1.208950e-03 & -4.817937e-04 &  2.149317e-04 & -1.244830e-03 & -3.973720e-03 & -1.628778e-03 & -4.488172e-03\\\\\n",
       "\tV17 & -0.073819211 & -0.0034909758 &  0.0032441615 & -8.159065e-03 &  0.0036554990 & -4.466238e-03 & -1.716173e-03 & -8.793767e-03 & -5.575898e-03 & -2.317901e-03 & ⋯ &  1.518239e-03 &  0.0035596127 & -1.621056e-04 &  6.673954e-04 &  1.006138e-03 & -6.845365e-04 &  1.568409e-04 & -3.420602e-03 & -2.702573e-03 &  7.730195e-03\\\\\n",
       "\tV18 &  0.090305425 & -0.0035352301 &  0.0024765548 & -3.494744e-03 &  0.0023245465 & -2.685420e-03 &  5.406375e-04 & -4.279136e-03 & -1.323469e-03 & -3.729942e-04 & ⋯ & -2.447825e-04 &  0.0016289501 & -5.332961e-04 &  2.401797e-04 & -7.102012e-04 & -5.589505e-04 & -5.962489e-04 & -4.230567e-03 & -1.256500e-03 &  3.577524e-02\\\\\n",
       "\tV19 &  0.029536703 &  0.0009192076 & -0.0003582541 & -1.579591e-05 & -0.0005603806 &  4.361496e-04 &  1.057115e-04 &  8.461490e-04 & -6.258693e-04 &  2.472656e-04 & ⋯ & -2.693916e-04 &  0.0002435329 &  1.341664e-03 &  3.808831e-04 & -1.118659e-04 & -8.428859e-05 &  8.557074e-04 & -5.438294e-04 &  3.531070e-04 & -5.599398e-02\\\\\n",
       "\tV20 & -0.051021519 & -0.0013928957 & -0.0012874592 & -2.268501e-03 &  0.0003181437 & -1.184740e-03 & -1.810128e-04 & -1.192162e-03 &  2.714638e-04 & -1.837668e-03 & ⋯ &  1.000000e+00 &  0.0053724441 & -1.616558e-03 & -1.094231e-03 & -3.026628e-04 & -6.432090e-04 & -3.104050e-04 & -4.893696e-05 &  2.671098e-03 &  3.407286e-01\\\\\n",
       "\tV21 &  0.045912663 &  0.0028175227 & -0.0048971648 &  3.499872e-03 & -0.0010337817 &  1.622347e-03 & -2.133682e-03 &  9.010101e-03 &  1.889229e-02 &  6.787735e-04 & ⋯ &  5.372444e-03 &  1.0000000000 &  9.645297e-03 & -6.391102e-03 &  1.210213e-03 & -8.724679e-04 & -8.738995e-04 & -5.216488e-03 & -4.436379e-03 &  1.080576e-01\\\\\n",
       "\tV22 &  0.143727253 & -0.0014362518 &  0.0012371297 & -2.747377e-04 &  0.0001154014 & -5.587086e-04 &  1.103627e-03 & -2.280236e-03 & -6.156169e-03 &  7.845610e-04 & ⋯ & -1.616558e-03 &  0.0096452970 &  1.000000e+00 &  1.929377e-03 & -3.143970e-05 &  1.974412e-04 & -1.495264e-03 &  3.037155e-03 &  1.392390e-03 & -6.496476e-02\\\\\n",
       "\tV23 &  0.051474067 & -0.0013304300 & -0.0038546637 &  4.490740e-04 &  0.0007320911 &  1.183230e-03 & -7.553723e-04 &  3.303484e-03 &  4.993690e-03 &  6.768840e-04 & ⋯ & -1.094231e-03 & -0.0063911021 &  1.929377e-03 &  1.000000e+00 &  2.727045e-04 & -5.319791e-04 & -1.853913e-04 & -2.027701e-03 & -3.223704e-03 & -1.128325e-01\\\\\n",
       "\tV24 & -0.015954267 & -0.0007230448 &  0.0007005669 & -7.219221e-05 & -0.0001198895 &  1.978853e-04 &  1.202149e-03 & -3.844088e-04 &  1.125062e-04 & -1.030833e-04 & ⋯ & -3.026628e-04 &  0.0012102129 & -3.143970e-05 &  2.727045e-04 &  1.000000e+00 & -1.880657e-04 &  5.677724e-04 & -8.847188e-04 &  3.220294e-04 &  5.054928e-03\\\\\n",
       "\tV25 & -0.233261639 & -0.0002224914 & -0.0015691227 &  4.251038e-04 &  0.0001616877 &  6.905195e-05 &  6.970064e-04 & -7.247179e-05 &  1.062315e-05 & -2.751723e-04 & ⋯ & -6.432090e-04 & -0.0008724679 &  1.974412e-04 & -5.319791e-04 & -1.880657e-04 &  1.000000e+00 &  4.787742e-05 & -1.338555e-03 & -5.654670e-04 & -4.759606e-02\\\\\n",
       "\tV26 & -0.041818325 & -0.0006836594 &  0.0002532207 & -9.431455e-05 &  0.0007769988 &  3.904259e-04 & -2.803859e-05 &  6.238846e-04 & -1.406784e-03 &  1.253499e-03 & ⋯ & -3.104050e-04 & -0.0008738995 & -1.495264e-03 & -1.853913e-04 &  5.677724e-04 &  4.787742e-05 &  1.000000e+00 & -3.294447e-03 & -9.989490e-04 & -3.424846e-03\\\\\n",
       "\tV27 & -0.005171416 & -0.0157061918 &  0.0075547402 & -7.050644e-03 &  0.0013219888 & -5.798027e-03 &  2.892465e-04 & -4.536867e-03 &  6.132571e-04 &  8.221063e-03 & ⋯ & -4.893696e-05 & -0.0052164878 &  3.037155e-03 & -2.027701e-03 & -8.847188e-04 & -1.338555e-03 & -3.294447e-03 &  1.000000e+00 & -1.395043e-02 &  2.792173e-02\\\\\n",
       "\tV28 & -0.009304984 & -0.0048605806 &  0.0016113207 & -1.341624e-04 &  0.0002310926 & -8.200772e-04 &  9.246284e-04 &  1.656569e-03 & -9.929007e-05 &  5.591210e-03 & ⋯ &  2.671098e-03 & -0.0044363788 &  1.392390e-03 & -3.223704e-03 &  3.220294e-04 & -5.654670e-04 & -9.989490e-04 & -1.395043e-02 &  1.000000e+00 &  1.014349e-02\\\\\n",
       "\tAmount & -0.010558834 & -0.2301053027 & -0.5334280139 & -2.124100e-01 &  0.0995143383 & -3.876853e-01 &  2.163888e-01 &  4.004080e-01 & -1.046616e-01 & -4.412251e-02 & ⋯ &  3.407286e-01 &  0.1080576160 & -6.496476e-02 & -1.128325e-01 &  5.054928e-03 & -4.759606e-02 & -3.424846e-03 &  2.792173e-02 &  1.014349e-02 &  1.000000e+00\\\\\n",
       "\\end{tabular}\n"
      ],
      "text/markdown": [
       "\n",
       "A matrix: 30 × 30 of type dbl\n",
       "\n",
       "| <!--/--> | Time | V1 | V2 | V3 | V4 | V5 | V6 | V7 | V8 | V9 | ⋯ | V20 | V21 | V22 | V23 | V24 | V25 | V26 | V27 | V28 | Amount |\n",
       "|---|---|---|---|---|---|---|---|---|---|---|---|---|---|---|---|---|---|---|---|---|---|\n",
       "| Time |  1.000000000 |  0.1179266030 | -0.0105555719 | -4.220538e-01 | -0.1058448928 |  1.732230e-01 | -6.327934e-02 |  8.533518e-02 | -3.820313e-02 | -7.861473e-03 | ⋯ | -5.102152e-02 |  0.0459126634 |  1.437273e-01 |  5.147407e-02 | -1.595427e-02 | -2.332616e-01 | -4.181832e-02 | -5.171416e-03 | -9.304984e-03 | -1.055883e-02 |\n",
       "| V1 |  0.117926603 |  1.0000000000 |  0.0068749355 | -8.111812e-03 |  0.0022573276 | -7.036016e-03 |  4.128357e-04 | -9.173080e-03 | -1.168269e-03 |  1.828040e-03 | ⋯ | -1.392896e-03 |  0.0028175227 | -1.436252e-03 | -1.330430e-03 | -7.230448e-04 | -2.224914e-04 | -6.836594e-04 | -1.570619e-02 | -4.860581e-03 | -2.301053e-01 |\n",
       "| V2 | -0.010555572 |  0.0068749355 |  1.0000000000 |  5.278252e-03 | -0.0014952611 |  5.209894e-03 | -5.944499e-04 |  7.424774e-03 |  2.899226e-03 | -2.739687e-04 | ⋯ | -1.287459e-03 | -0.0048971648 |  1.237130e-03 | -3.854664e-03 |  7.005669e-04 | -1.569123e-03 |  2.532207e-04 |  7.554740e-03 |  1.611321e-03 | -5.334280e-01 |\n",
       "| V3 | -0.422053810 | -0.0081118122 |  0.0052782517 |  1.000000e+00 |  0.0028287819 | -6.878571e-03 | -1.511482e-03 | -1.172139e-02 | -1.814670e-03 | -3.578921e-03 | ⋯ | -2.268501e-03 |  0.0034998716 | -2.747377e-04 |  4.490740e-04 | -7.219221e-05 |  4.251038e-04 | -9.431455e-05 | -7.050644e-03 | -1.341624e-04 | -2.124100e-01 |\n",
       "| V4 | -0.105844893 |  0.0022573276 | -0.0014952611 |  2.828782e-03 |  1.0000000000 |  1.744216e-03 | -8.804138e-04 |  4.656984e-03 |  8.904924e-04 |  2.154400e-03 | ⋯ |  3.181437e-04 | -0.0010337817 |  1.154014e-04 |  7.320911e-04 | -1.198895e-04 |  1.616877e-04 |  7.769988e-04 |  1.321989e-03 |  2.310926e-04 |  9.951434e-02 |\n",
       "| V5 |  0.173223011 | -0.0070360158 |  0.0052098935 | -6.878571e-03 |  0.0017442162 |  1.000000e+00 | -9.375118e-04 | -8.708848e-03 |  1.430492e-03 | -1.212831e-03 | ⋯ | -1.184740e-03 |  0.0016223475 | -5.587086e-04 |  1.183230e-03 |  1.978853e-04 |  6.905195e-05 |  3.904259e-04 | -5.798027e-03 | -8.200772e-04 | -3.876853e-01 |\n",
       "| V6 | -0.063279338 |  0.0004128357 | -0.0005944499 | -1.511482e-03 | -0.0008804138 | -9.375118e-04 |  1.000000e+00 |  4.363105e-04 |  3.035786e-03 | -7.338978e-04 | ⋯ | -1.810128e-04 | -0.0021336821 |  1.103627e-03 | -7.553723e-04 |  1.202149e-03 |  6.970064e-04 | -2.803859e-05 |  2.892465e-04 |  9.246284e-04 |  2.163888e-01 |\n",
       "| V7 |  0.085335181 | -0.0091730804 |  0.0074247740 | -1.172139e-02 |  0.0046569837 | -8.708848e-03 |  4.363105e-04 |  1.000000e+00 | -6.419315e-03 | -4.921428e-03 | ⋯ | -1.192162e-03 |  0.0090101010 | -2.280236e-03 |  3.303484e-03 | -3.844088e-04 | -7.247179e-05 |  6.238846e-04 | -4.536867e-03 |  1.656569e-03 |  4.004080e-01 |\n",
       "| V8 | -0.038203126 | -0.0011682694 |  0.0028992257 | -1.814670e-03 |  0.0008904924 |  1.430492e-03 |  3.035786e-03 | -6.419315e-03 |  1.000000e+00 |  1.038355e-03 | ⋯ |  2.714638e-04 |  0.0188922857 | -6.156169e-03 |  4.993690e-03 |  1.125062e-04 |  1.062315e-05 | -1.406784e-03 |  6.132571e-04 | -9.929007e-05 | -1.046616e-01 |\n",
       "| V9 | -0.007861473 |  0.0018280398 | -0.0002739687 | -3.578921e-03 |  0.0021543998 | -1.212831e-03 | -7.338978e-04 | -4.921428e-03 |  1.038355e-03 |  1.000000e+00 | ⋯ | -1.837668e-03 |  0.0006787735 |  7.845610e-04 |  6.768840e-04 | -1.030833e-04 | -2.751723e-04 |  1.253499e-03 |  8.221063e-03 |  5.591210e-03 | -4.412251e-02 |\n",
       "| V10 |  0.031068100 |  0.0008152214 |  0.0006204527 | -9.632286e-03 |  0.0027529558 | -6.049529e-03 | -2.179665e-03 | -1.361707e-02 |  4.809098e-04 | -1.261272e-02 | ⋯ | -4.448341e-03 |  0.0037771150 | -4.809226e-04 |  1.916617e-03 |  1.544456e-04 | -5.646353e-04 |  1.088877e-03 |  1.076930e-02 |  9.158577e-03 | -1.022549e-01 |\n",
       "| V11 | -0.248535957 |  0.0010280856 | -0.0006332422 |  2.339002e-03 | -0.0012228392 |  4.112367e-04 | -2.110857e-04 |  2.454390e-03 |  4.687841e-03 | -2.171764e-04 | ⋯ | -9.890491e-04 | -0.0027602034 | -1.502572e-04 | -3.669861e-05 |  7.954333e-05 |  4.720072e-05 | -2.038474e-04 |  1.986852e-03 |  2.562344e-03 | -1.474531e-05 |\n",
       "| V12 |  0.125500230 | -0.0015237429 |  0.0022663718 | -5.900173e-03 |  0.0033657176 | -2.341675e-03 | -1.185153e-03 | -6.153104e-03 | -4.413663e-03 | -2.384596e-03 | ⋯ |  1.168765e-03 |  0.0032852660 |  1.510595e-04 |  4.858720e-04 |  5.876584e-04 | -1.807479e-04 | -1.383779e-04 | -9.285294e-04 | -6.131804e-04 | -9.254235e-03 |\n",
       "| V13 | -0.065958111 | -0.0005675426 |  0.0006796344 |  1.132795e-04 |  0.0001774350 |  1.918077e-05 |  3.971071e-04 | -1.700721e-04 | -1.381071e-03 |  7.450416e-04 | ⋯ |  3.787814e-04 |  0.0005224291 |  1.645609e-05 |  2.518461e-04 | -4.889666e-05 |  2.480321e-04 | -1.014763e-04 | -1.577183e-03 | -6.039264e-04 |  5.208901e-03 |\n",
       "| V14 | -0.100316042 | -0.0026627890 |  0.0027111420 | -3.027373e-03 |  0.0028006572 | -1.000292e-03 |  1.835359e-04 | -3.815508e-03 | -8.387034e-03 |  1.981400e-03 | ⋯ |  2.725583e-03 |  0.0056334790 | -1.906301e-03 |  6.656973e-04 | -2.632084e-05 |  1.553859e-04 | -7.020277e-04 | -4.556006e-03 | -4.664263e-03 |  3.412161e-02 |\n",
       "| V15 | -0.184391986 | -0.0006024775 |  0.0015377416 | -1.230119e-03 |  0.0005723100 | -1.170667e-03 | -4.701071e-04 | -1.393603e-03 |  1.044107e-03 | -2.829960e-04 | ⋯ | -7.540547e-04 | -0.0002707160 | -1.196935e-03 |  9.690520e-04 |  1.125783e-04 |  4.447777e-04 | -2.034013e-03 | -6.413876e-04 |  8.583620e-04 | -3.264675e-03 |\n",
       "| V16 |  0.011286429 | -0.0033454079 |  0.0040127579 | -4.430372e-03 |  0.0033463957 | -2.373094e-03 |  1.222525e-04 | -5.944411e-03 | -4.375544e-03 | -8.635262e-05 | ⋯ |  1.067034e-03 |  0.0043264891 | -8.201713e-04 |  1.208950e-03 | -4.817937e-04 |  2.149317e-04 | -1.244830e-03 | -3.973720e-03 | -1.628778e-03 | -4.488172e-03 |\n",
       "| V17 | -0.073819211 | -0.0034909758 |  0.0032441615 | -8.159065e-03 |  0.0036554990 | -4.466238e-03 | -1.716173e-03 | -8.793767e-03 | -5.575898e-03 | -2.317901e-03 | ⋯ |  1.518239e-03 |  0.0035596127 | -1.621056e-04 |  6.673954e-04 |  1.006138e-03 | -6.845365e-04 |  1.568409e-04 | -3.420602e-03 | -2.702573e-03 |  7.730195e-03 |\n",
       "| V18 |  0.090305425 | -0.0035352301 |  0.0024765548 | -3.494744e-03 |  0.0023245465 | -2.685420e-03 |  5.406375e-04 | -4.279136e-03 | -1.323469e-03 | -3.729942e-04 | ⋯ | -2.447825e-04 |  0.0016289501 | -5.332961e-04 |  2.401797e-04 | -7.102012e-04 | -5.589505e-04 | -5.962489e-04 | -4.230567e-03 | -1.256500e-03 |  3.577524e-02 |\n",
       "| V19 |  0.029536703 |  0.0009192076 | -0.0003582541 | -1.579591e-05 | -0.0005603806 |  4.361496e-04 |  1.057115e-04 |  8.461490e-04 | -6.258693e-04 |  2.472656e-04 | ⋯ | -2.693916e-04 |  0.0002435329 |  1.341664e-03 |  3.808831e-04 | -1.118659e-04 | -8.428859e-05 |  8.557074e-04 | -5.438294e-04 |  3.531070e-04 | -5.599398e-02 |\n",
       "| V20 | -0.051021519 | -0.0013928957 | -0.0012874592 | -2.268501e-03 |  0.0003181437 | -1.184740e-03 | -1.810128e-04 | -1.192162e-03 |  2.714638e-04 | -1.837668e-03 | ⋯ |  1.000000e+00 |  0.0053724441 | -1.616558e-03 | -1.094231e-03 | -3.026628e-04 | -6.432090e-04 | -3.104050e-04 | -4.893696e-05 |  2.671098e-03 |  3.407286e-01 |\n",
       "| V21 |  0.045912663 |  0.0028175227 | -0.0048971648 |  3.499872e-03 | -0.0010337817 |  1.622347e-03 | -2.133682e-03 |  9.010101e-03 |  1.889229e-02 |  6.787735e-04 | ⋯ |  5.372444e-03 |  1.0000000000 |  9.645297e-03 | -6.391102e-03 |  1.210213e-03 | -8.724679e-04 | -8.738995e-04 | -5.216488e-03 | -4.436379e-03 |  1.080576e-01 |\n",
       "| V22 |  0.143727253 | -0.0014362518 |  0.0012371297 | -2.747377e-04 |  0.0001154014 | -5.587086e-04 |  1.103627e-03 | -2.280236e-03 | -6.156169e-03 |  7.845610e-04 | ⋯ | -1.616558e-03 |  0.0096452970 |  1.000000e+00 |  1.929377e-03 | -3.143970e-05 |  1.974412e-04 | -1.495264e-03 |  3.037155e-03 |  1.392390e-03 | -6.496476e-02 |\n",
       "| V23 |  0.051474067 | -0.0013304300 | -0.0038546637 |  4.490740e-04 |  0.0007320911 |  1.183230e-03 | -7.553723e-04 |  3.303484e-03 |  4.993690e-03 |  6.768840e-04 | ⋯ | -1.094231e-03 | -0.0063911021 |  1.929377e-03 |  1.000000e+00 |  2.727045e-04 | -5.319791e-04 | -1.853913e-04 | -2.027701e-03 | -3.223704e-03 | -1.128325e-01 |\n",
       "| V24 | -0.015954267 | -0.0007230448 |  0.0007005669 | -7.219221e-05 | -0.0001198895 |  1.978853e-04 |  1.202149e-03 | -3.844088e-04 |  1.125062e-04 | -1.030833e-04 | ⋯ | -3.026628e-04 |  0.0012102129 | -3.143970e-05 |  2.727045e-04 |  1.000000e+00 | -1.880657e-04 |  5.677724e-04 | -8.847188e-04 |  3.220294e-04 |  5.054928e-03 |\n",
       "| V25 | -0.233261639 | -0.0002224914 | -0.0015691227 |  4.251038e-04 |  0.0001616877 |  6.905195e-05 |  6.970064e-04 | -7.247179e-05 |  1.062315e-05 | -2.751723e-04 | ⋯ | -6.432090e-04 | -0.0008724679 |  1.974412e-04 | -5.319791e-04 | -1.880657e-04 |  1.000000e+00 |  4.787742e-05 | -1.338555e-03 | -5.654670e-04 | -4.759606e-02 |\n",
       "| V26 | -0.041818325 | -0.0006836594 |  0.0002532207 | -9.431455e-05 |  0.0007769988 |  3.904259e-04 | -2.803859e-05 |  6.238846e-04 | -1.406784e-03 |  1.253499e-03 | ⋯ | -3.104050e-04 | -0.0008738995 | -1.495264e-03 | -1.853913e-04 |  5.677724e-04 |  4.787742e-05 |  1.000000e+00 | -3.294447e-03 | -9.989490e-04 | -3.424846e-03 |\n",
       "| V27 | -0.005171416 | -0.0157061918 |  0.0075547402 | -7.050644e-03 |  0.0013219888 | -5.798027e-03 |  2.892465e-04 | -4.536867e-03 |  6.132571e-04 |  8.221063e-03 | ⋯ | -4.893696e-05 | -0.0052164878 |  3.037155e-03 | -2.027701e-03 | -8.847188e-04 | -1.338555e-03 | -3.294447e-03 |  1.000000e+00 | -1.395043e-02 |  2.792173e-02 |\n",
       "| V28 | -0.009304984 | -0.0048605806 |  0.0016113207 | -1.341624e-04 |  0.0002310926 | -8.200772e-04 |  9.246284e-04 |  1.656569e-03 | -9.929007e-05 |  5.591210e-03 | ⋯ |  2.671098e-03 | -0.0044363788 |  1.392390e-03 | -3.223704e-03 |  3.220294e-04 | -5.654670e-04 | -9.989490e-04 | -1.395043e-02 |  1.000000e+00 |  1.014349e-02 |\n",
       "| Amount | -0.010558834 | -0.2301053027 | -0.5334280139 | -2.124100e-01 |  0.0995143383 | -3.876853e-01 |  2.163888e-01 |  4.004080e-01 | -1.046616e-01 | -4.412251e-02 | ⋯ |  3.407286e-01 |  0.1080576160 | -6.496476e-02 | -1.128325e-01 |  5.054928e-03 | -4.759606e-02 | -3.424846e-03 |  2.792173e-02 |  1.014349e-02 |  1.000000e+00 |\n",
       "\n"
      ],
      "text/plain": [
       "       Time         V1            V2            V3            V4           \n",
       "Time    1.000000000  0.1179266030 -0.0105555719 -4.220538e-01 -0.1058448928\n",
       "V1      0.117926603  1.0000000000  0.0068749355 -8.111812e-03  0.0022573276\n",
       "V2     -0.010555572  0.0068749355  1.0000000000  5.278252e-03 -0.0014952611\n",
       "V3     -0.422053810 -0.0081118122  0.0052782517  1.000000e+00  0.0028287819\n",
       "V4     -0.105844893  0.0022573276 -0.0014952611  2.828782e-03  1.0000000000\n",
       "V5      0.173223011 -0.0070360158  0.0052098935 -6.878571e-03  0.0017442162\n",
       "V6     -0.063279338  0.0004128357 -0.0005944499 -1.511482e-03 -0.0008804138\n",
       "V7      0.085335181 -0.0091730804  0.0074247740 -1.172139e-02  0.0046569837\n",
       "V8     -0.038203126 -0.0011682694  0.0028992257 -1.814670e-03  0.0008904924\n",
       "V9     -0.007861473  0.0018280398 -0.0002739687 -3.578921e-03  0.0021543998\n",
       "V10     0.031068100  0.0008152214  0.0006204527 -9.632286e-03  0.0027529558\n",
       "V11    -0.248535957  0.0010280856 -0.0006332422  2.339002e-03 -0.0012228392\n",
       "V12     0.125500230 -0.0015237429  0.0022663718 -5.900173e-03  0.0033657176\n",
       "V13    -0.065958111 -0.0005675426  0.0006796344  1.132795e-04  0.0001774350\n",
       "V14    -0.100316042 -0.0026627890  0.0027111420 -3.027373e-03  0.0028006572\n",
       "V15    -0.184391986 -0.0006024775  0.0015377416 -1.230119e-03  0.0005723100\n",
       "V16     0.011286429 -0.0033454079  0.0040127579 -4.430372e-03  0.0033463957\n",
       "V17    -0.073819211 -0.0034909758  0.0032441615 -8.159065e-03  0.0036554990\n",
       "V18     0.090305425 -0.0035352301  0.0024765548 -3.494744e-03  0.0023245465\n",
       "V19     0.029536703  0.0009192076 -0.0003582541 -1.579591e-05 -0.0005603806\n",
       "V20    -0.051021519 -0.0013928957 -0.0012874592 -2.268501e-03  0.0003181437\n",
       "V21     0.045912663  0.0028175227 -0.0048971648  3.499872e-03 -0.0010337817\n",
       "V22     0.143727253 -0.0014362518  0.0012371297 -2.747377e-04  0.0001154014\n",
       "V23     0.051474067 -0.0013304300 -0.0038546637  4.490740e-04  0.0007320911\n",
       "V24    -0.015954267 -0.0007230448  0.0007005669 -7.219221e-05 -0.0001198895\n",
       "V25    -0.233261639 -0.0002224914 -0.0015691227  4.251038e-04  0.0001616877\n",
       "V26    -0.041818325 -0.0006836594  0.0002532207 -9.431455e-05  0.0007769988\n",
       "V27    -0.005171416 -0.0157061918  0.0075547402 -7.050644e-03  0.0013219888\n",
       "V28    -0.009304984 -0.0048605806  0.0016113207 -1.341624e-04  0.0002310926\n",
       "Amount -0.010558834 -0.2301053027 -0.5334280139 -2.124100e-01  0.0995143383\n",
       "       V5            V6            V7            V8            V9            ⋯\n",
       "Time    1.732230e-01 -6.327934e-02  8.533518e-02 -3.820313e-02 -7.861473e-03 ⋯\n",
       "V1     -7.036016e-03  4.128357e-04 -9.173080e-03 -1.168269e-03  1.828040e-03 ⋯\n",
       "V2      5.209894e-03 -5.944499e-04  7.424774e-03  2.899226e-03 -2.739687e-04 ⋯\n",
       "V3     -6.878571e-03 -1.511482e-03 -1.172139e-02 -1.814670e-03 -3.578921e-03 ⋯\n",
       "V4      1.744216e-03 -8.804138e-04  4.656984e-03  8.904924e-04  2.154400e-03 ⋯\n",
       "V5      1.000000e+00 -9.375118e-04 -8.708848e-03  1.430492e-03 -1.212831e-03 ⋯\n",
       "V6     -9.375118e-04  1.000000e+00  4.363105e-04  3.035786e-03 -7.338978e-04 ⋯\n",
       "V7     -8.708848e-03  4.363105e-04  1.000000e+00 -6.419315e-03 -4.921428e-03 ⋯\n",
       "V8      1.430492e-03  3.035786e-03 -6.419315e-03  1.000000e+00  1.038355e-03 ⋯\n",
       "V9     -1.212831e-03 -7.338978e-04 -4.921428e-03  1.038355e-03  1.000000e+00 ⋯\n",
       "V10    -6.049529e-03 -2.179665e-03 -1.361707e-02  4.809098e-04 -1.261272e-02 ⋯\n",
       "V11     4.112367e-04 -2.110857e-04  2.454390e-03  4.687841e-03 -2.171764e-04 ⋯\n",
       "V12    -2.341675e-03 -1.185153e-03 -6.153104e-03 -4.413663e-03 -2.384596e-03 ⋯\n",
       "V13     1.918077e-05  3.971071e-04 -1.700721e-04 -1.381071e-03  7.450416e-04 ⋯\n",
       "V14    -1.000292e-03  1.835359e-04 -3.815508e-03 -8.387034e-03  1.981400e-03 ⋯\n",
       "V15    -1.170667e-03 -4.701071e-04 -1.393603e-03  1.044107e-03 -2.829960e-04 ⋯\n",
       "V16    -2.373094e-03  1.222525e-04 -5.944411e-03 -4.375544e-03 -8.635262e-05 ⋯\n",
       "V17    -4.466238e-03 -1.716173e-03 -8.793767e-03 -5.575898e-03 -2.317901e-03 ⋯\n",
       "V18    -2.685420e-03  5.406375e-04 -4.279136e-03 -1.323469e-03 -3.729942e-04 ⋯\n",
       "V19     4.361496e-04  1.057115e-04  8.461490e-04 -6.258693e-04  2.472656e-04 ⋯\n",
       "V20    -1.184740e-03 -1.810128e-04 -1.192162e-03  2.714638e-04 -1.837668e-03 ⋯\n",
       "V21     1.622347e-03 -2.133682e-03  9.010101e-03  1.889229e-02  6.787735e-04 ⋯\n",
       "V22    -5.587086e-04  1.103627e-03 -2.280236e-03 -6.156169e-03  7.845610e-04 ⋯\n",
       "V23     1.183230e-03 -7.553723e-04  3.303484e-03  4.993690e-03  6.768840e-04 ⋯\n",
       "V24     1.978853e-04  1.202149e-03 -3.844088e-04  1.125062e-04 -1.030833e-04 ⋯\n",
       "V25     6.905195e-05  6.970064e-04 -7.247179e-05  1.062315e-05 -2.751723e-04 ⋯\n",
       "V26     3.904259e-04 -2.803859e-05  6.238846e-04 -1.406784e-03  1.253499e-03 ⋯\n",
       "V27    -5.798027e-03  2.892465e-04 -4.536867e-03  6.132571e-04  8.221063e-03 ⋯\n",
       "V28    -8.200772e-04  9.246284e-04  1.656569e-03 -9.929007e-05  5.591210e-03 ⋯\n",
       "Amount -3.876853e-01  2.163888e-01  4.004080e-01 -1.046616e-01 -4.412251e-02 ⋯\n",
       "       V20           V21           V22           V23           V24          \n",
       "Time   -5.102152e-02  0.0459126634  1.437273e-01  5.147407e-02 -1.595427e-02\n",
       "V1     -1.392896e-03  0.0028175227 -1.436252e-03 -1.330430e-03 -7.230448e-04\n",
       "V2     -1.287459e-03 -0.0048971648  1.237130e-03 -3.854664e-03  7.005669e-04\n",
       "V3     -2.268501e-03  0.0034998716 -2.747377e-04  4.490740e-04 -7.219221e-05\n",
       "V4      3.181437e-04 -0.0010337817  1.154014e-04  7.320911e-04 -1.198895e-04\n",
       "V5     -1.184740e-03  0.0016223475 -5.587086e-04  1.183230e-03  1.978853e-04\n",
       "V6     -1.810128e-04 -0.0021336821  1.103627e-03 -7.553723e-04  1.202149e-03\n",
       "V7     -1.192162e-03  0.0090101010 -2.280236e-03  3.303484e-03 -3.844088e-04\n",
       "V8      2.714638e-04  0.0188922857 -6.156169e-03  4.993690e-03  1.125062e-04\n",
       "V9     -1.837668e-03  0.0006787735  7.845610e-04  6.768840e-04 -1.030833e-04\n",
       "V10    -4.448341e-03  0.0037771150 -4.809226e-04  1.916617e-03  1.544456e-04\n",
       "V11    -9.890491e-04 -0.0027602034 -1.502572e-04 -3.669861e-05  7.954333e-05\n",
       "V12     1.168765e-03  0.0032852660  1.510595e-04  4.858720e-04  5.876584e-04\n",
       "V13     3.787814e-04  0.0005224291  1.645609e-05  2.518461e-04 -4.889666e-05\n",
       "V14     2.725583e-03  0.0056334790 -1.906301e-03  6.656973e-04 -2.632084e-05\n",
       "V15    -7.540547e-04 -0.0002707160 -1.196935e-03  9.690520e-04  1.125783e-04\n",
       "V16     1.067034e-03  0.0043264891 -8.201713e-04  1.208950e-03 -4.817937e-04\n",
       "V17     1.518239e-03  0.0035596127 -1.621056e-04  6.673954e-04  1.006138e-03\n",
       "V18    -2.447825e-04  0.0016289501 -5.332961e-04  2.401797e-04 -7.102012e-04\n",
       "V19    -2.693916e-04  0.0002435329  1.341664e-03  3.808831e-04 -1.118659e-04\n",
       "V20     1.000000e+00  0.0053724441 -1.616558e-03 -1.094231e-03 -3.026628e-04\n",
       "V21     5.372444e-03  1.0000000000  9.645297e-03 -6.391102e-03  1.210213e-03\n",
       "V22    -1.616558e-03  0.0096452970  1.000000e+00  1.929377e-03 -3.143970e-05\n",
       "V23    -1.094231e-03 -0.0063911021  1.929377e-03  1.000000e+00  2.727045e-04\n",
       "V24    -3.026628e-04  0.0012102129 -3.143970e-05  2.727045e-04  1.000000e+00\n",
       "V25    -6.432090e-04 -0.0008724679  1.974412e-04 -5.319791e-04 -1.880657e-04\n",
       "V26    -3.104050e-04 -0.0008738995 -1.495264e-03 -1.853913e-04  5.677724e-04\n",
       "V27    -4.893696e-05 -0.0052164878  3.037155e-03 -2.027701e-03 -8.847188e-04\n",
       "V28     2.671098e-03 -0.0044363788  1.392390e-03 -3.223704e-03  3.220294e-04\n",
       "Amount  3.407286e-01  0.1080576160 -6.496476e-02 -1.128325e-01  5.054928e-03\n",
       "       V25           V26           V27           V28           Amount       \n",
       "Time   -2.332616e-01 -4.181832e-02 -5.171416e-03 -9.304984e-03 -1.055883e-02\n",
       "V1     -2.224914e-04 -6.836594e-04 -1.570619e-02 -4.860581e-03 -2.301053e-01\n",
       "V2     -1.569123e-03  2.532207e-04  7.554740e-03  1.611321e-03 -5.334280e-01\n",
       "V3      4.251038e-04 -9.431455e-05 -7.050644e-03 -1.341624e-04 -2.124100e-01\n",
       "V4      1.616877e-04  7.769988e-04  1.321989e-03  2.310926e-04  9.951434e-02\n",
       "V5      6.905195e-05  3.904259e-04 -5.798027e-03 -8.200772e-04 -3.876853e-01\n",
       "V6      6.970064e-04 -2.803859e-05  2.892465e-04  9.246284e-04  2.163888e-01\n",
       "V7     -7.247179e-05  6.238846e-04 -4.536867e-03  1.656569e-03  4.004080e-01\n",
       "V8      1.062315e-05 -1.406784e-03  6.132571e-04 -9.929007e-05 -1.046616e-01\n",
       "V9     -2.751723e-04  1.253499e-03  8.221063e-03  5.591210e-03 -4.412251e-02\n",
       "V10    -5.646353e-04  1.088877e-03  1.076930e-02  9.158577e-03 -1.022549e-01\n",
       "V11     4.720072e-05 -2.038474e-04  1.986852e-03  2.562344e-03 -1.474531e-05\n",
       "V12    -1.807479e-04 -1.383779e-04 -9.285294e-04 -6.131804e-04 -9.254235e-03\n",
       "V13     2.480321e-04 -1.014763e-04 -1.577183e-03 -6.039264e-04  5.208901e-03\n",
       "V14     1.553859e-04 -7.020277e-04 -4.556006e-03 -4.664263e-03  3.412161e-02\n",
       "V15     4.447777e-04 -2.034013e-03 -6.413876e-04  8.583620e-04 -3.264675e-03\n",
       "V16     2.149317e-04 -1.244830e-03 -3.973720e-03 -1.628778e-03 -4.488172e-03\n",
       "V17    -6.845365e-04  1.568409e-04 -3.420602e-03 -2.702573e-03  7.730195e-03\n",
       "V18    -5.589505e-04 -5.962489e-04 -4.230567e-03 -1.256500e-03  3.577524e-02\n",
       "V19    -8.428859e-05  8.557074e-04 -5.438294e-04  3.531070e-04 -5.599398e-02\n",
       "V20    -6.432090e-04 -3.104050e-04 -4.893696e-05  2.671098e-03  3.407286e-01\n",
       "V21    -8.724679e-04 -8.738995e-04 -5.216488e-03 -4.436379e-03  1.080576e-01\n",
       "V22     1.974412e-04 -1.495264e-03  3.037155e-03  1.392390e-03 -6.496476e-02\n",
       "V23    -5.319791e-04 -1.853913e-04 -2.027701e-03 -3.223704e-03 -1.128325e-01\n",
       "V24    -1.880657e-04  5.677724e-04 -8.847188e-04  3.220294e-04  5.054928e-03\n",
       "V25     1.000000e+00  4.787742e-05 -1.338555e-03 -5.654670e-04 -4.759606e-02\n",
       "V26     4.787742e-05  1.000000e+00 -3.294447e-03 -9.989490e-04 -3.424846e-03\n",
       "V27    -1.338555e-03 -3.294447e-03  1.000000e+00 -1.395043e-02  2.792173e-02\n",
       "V28    -5.654670e-04 -9.989490e-04 -1.395043e-02  1.000000e+00  1.014349e-02\n",
       "Amount -4.759606e-02 -3.424846e-03  2.792173e-02  1.014349e-02  1.000000e+00"
      ]
     },
     "metadata": {},
     "output_type": "display_data"
    }
   ],
   "source": [
    "# Compute the correlation matrix\n",
    "correlation_matrix <- cor(numeric_data)\n",
    "correlation_matrix"
   ]
  },
  {
   "cell_type": "code",
   "execution_count": 9,
   "id": "d600182e-bd25-4690-a8cc-9982c24c2c09",
   "metadata": {},
   "outputs": [
    {
     "data": {
      "image/png": "[encoded data removed]",
      "text/plain": [
       "Plot with title \"\""
      ]
     },
     "metadata": {
      "image/png": {
       "height": 420,
       "width": 420
      }
     },
     "output_type": "display_data"
    }
   ],
   "source": [
    "# Plot the correlation matrix using corrplot\n",
    "corrplot(correlation_matrix, method = \"color\",col = colorRampPalette(c(\"blue\", \"white\", \"purple\"))(100),tl.col = \"black\")"
   ]
  },
  {
   "cell_type": "markdown",
   "id": "ee46846e-dab4-476f-99f1-fc2d6ce22892",
   "metadata": {},
   "source": [
    "# Train-Test Split"
   ]
  },
  {
   "cell_type": "code",
   "execution_count": 10,
   "id": "2dba8dbb-9f6b-49bd-a15d-ac42123b4fa1",
   "metadata": {},
   "outputs": [],
   "source": [
    "set.seed(1234)\n",
    "index<-createDataPartition(data$Class,p=0.8,list=FALSE)\n",
    "train<-data[index,]\n",
    "test<-data[-index,]"
   ]
  },
  {
   "cell_type": "code",
   "execution_count": 11,
   "id": "bc1e923f-7c86-4b37-aac1-3c63008bdbdb",
   "metadata": {},
   "outputs": [
    {
     "data": {
      "text/plain": [
       "\n",
       "     0      1 \n",
       "226603    379 "
      ]
     },
     "metadata": {},
     "output_type": "display_data"
    }
   ],
   "source": [
    "table(train$Class)"
   ]
  },
  {
   "cell_type": "code",
   "execution_count": 12,
   "id": "364efba9-b8e2-479c-9672-5ea54dc73a1e",
   "metadata": {},
   "outputs": [
    {
     "data": {
      "text/plain": [
       "\n",
       "    0     1 \n",
       "56650    94 "
      ]
     },
     "metadata": {},
     "output_type": "display_data"
    }
   ],
   "source": [
    "table(test$Class)"
   ]
  },
  {
   "cell_type": "markdown",
   "id": "6b7180e3-151f-424b-be08-4b8cd123f3f3",
   "metadata": {},
   "source": [
    "# Base Logistic Model"
   ]
  },
  {
   "cell_type": "code",
   "execution_count": 13,
   "id": "7060306d-7a18-462a-be8b-8b3cfffe866b",
   "metadata": {},
   "outputs": [
    {
     "data": {
      "text/plain": [
       "\n",
       "Call:\n",
       "glm(formula = Class ~ ., family = \"binomial\", data = train)\n",
       "\n",
       "Coefficients:\n",
       "              Estimate Std. Error z value Pr(>|z|)    \n",
       "(Intercept) -8.468e+00  2.840e-01 -29.821  < 2e-16 ***\n",
       "Time        -3.652e-06  2.561e-06  -1.426  0.15381    \n",
       "V1           2.228e-01  9.474e-02   2.352  0.01869 *  \n",
       "V2          -1.145e-02  1.064e-01  -0.108  0.91436    \n",
       "V3          -4.436e-02  9.248e-02  -0.480  0.63151    \n",
       "V4           8.847e-01  1.106e-01   7.996 1.29e-15 ***\n",
       "V5           1.767e-01  1.007e-01   1.753  0.07952 .  \n",
       "V6          -1.527e-01  1.116e-01  -1.368  0.17138    \n",
       "V7          -1.582e-01  9.223e-02  -1.715  0.08638 .  \n",
       "V8          -2.352e-01  4.183e-02  -5.623 1.88e-08 ***\n",
       "V9          -2.752e-01  1.307e-01  -2.105  0.03530 *  \n",
       "V10         -7.141e-01  1.184e-01  -6.034 1.60e-09 ***\n",
       "V11         -7.083e-02  9.476e-02  -0.748  0.45475    \n",
       "V12          3.725e-02  9.521e-02   0.391  0.69559    \n",
       "V13         -3.707e-01  9.301e-02  -3.986 6.73e-05 ***\n",
       "V14         -6.403e-01  6.905e-02  -9.273  < 2e-16 ***\n",
       "V15         -1.329e-01  8.958e-02  -1.483  0.13800    \n",
       "V16         -2.088e-01  1.152e-01  -1.813  0.06983 .  \n",
       "V17         -3.354e-02  6.704e-02  -0.500  0.61687    \n",
       "V18          7.393e-03  1.158e-01   0.064  0.94910    \n",
       "V19          5.214e-02  8.761e-02   0.595  0.55178    \n",
       "V20         -3.465e-01  7.503e-02  -4.618 3.87e-06 ***\n",
       "V21          2.588e-01  4.857e-02   5.328 9.92e-08 ***\n",
       "V22          4.581e-01  1.096e-01   4.178 2.93e-05 ***\n",
       "V23         -5.223e-02  4.386e-02  -1.191  0.23367    \n",
       "V24          4.888e-02  1.031e-01   0.474  0.63541    \n",
       "V25         -4.577e-02  8.009e-02  -0.572  0.56764    \n",
       "V26         -8.624e-02  1.061e-01  -0.813  0.41613    \n",
       "V27         -3.350e-01  5.743e-02  -5.833 5.44e-09 ***\n",
       "V28         -1.363e-01  4.205e-02  -3.241  0.00119 ** \n",
       "Amount       1.045e-03  4.607e-04   2.269  0.02329 *  \n",
       "---\n",
       "Signif. codes:  0 '***' 0.001 '**' 0.01 '*' 0.05 '.' 0.1 ' ' 1\n",
       "\n",
       "(Dispersion parameter for binomial family taken to be 1)\n",
       "\n",
       "    Null deviance: 5604.8  on 226981  degrees of freedom\n",
       "Residual deviance: 1662.8  on 226951  degrees of freedom\n",
       "AIC: 1724.8\n",
       "\n",
       "Number of Fisher Scoring iterations: 11\n"
      ]
     },
     "metadata": {},
     "output_type": "display_data"
    }
   ],
   "source": [
    "# Setting seed for reproducibility\n",
    "set.seed(123)\n",
    "\n",
    "# Createing base model to to get initial idea \n",
    "BaseModel <- glm(Class~., data=train, family = \"binomial\")\n",
    "\n",
    "# get the summary of base model\n",
    "summary(BaseModel)\n",
    "\n",
    "# Plotting the base model\n",
    "#par(mfrow = c(2,2))\n",
    "#plot(BaseModel)"
   ]
  },
  {
   "cell_type": "code",
   "execution_count": 38,
   "id": "74a4a887-ada6-4698-a143-28e39bfffe1c",
   "metadata": {},
   "outputs": [
    {
     "name": "stdout",
     "output_type": "stream",
     "text": [
      "     Time        V1        V2        V3        V4        V5        V6        V7 \n",
      " 1.943600  6.755577 11.568200  8.189338  3.473938 10.453238  4.983152 11.933333 \n",
      "       V8        V9       V10       V11       V12       V13       V14       V15 \n",
      " 3.196297  3.975016  7.657634  3.185104  5.720809  1.208109  5.125277  1.345244 \n",
      "      V16       V17       V18       V19       V20       V21       V22       V23 \n",
      " 8.410921  9.026405  6.113594  2.326184  7.814328  3.370346  3.619434  2.196359 \n",
      "      V24       V25       V26       V27       V28    Amount \n",
      " 1.395122  1.860838  1.377743  4.189488  1.331894 24.754630 \n"
     ]
    }
   ],
   "source": [
    "print(car::vif(BaseModel))"
   ]
  },
  {
   "cell_type": "markdown",
   "id": "daeaae07-5802-4d14-b8ba-a8bb90a9d420",
   "metadata": {},
   "source": [
    "P-value Analysis:\n",
    "- The variables *Time, V2, V3, V5, V6, V7, V11, V12, V15, V16, V17, V18, V19, V23, V24, V25 and V26* show p-value more than threshold (>0.05).\n",
    "- Removing the variables without asterix in the model summary and VIF analysis."
   ]
  },
  {
   "cell_type": "markdown",
   "id": "7ec7c509-661c-44f3-81a8-76858ad8bba3",
   "metadata": {},
   "source": [
    "## Improvement 1 "
   ]
  },
  {
   "cell_type": "code",
   "execution_count": 15,
   "id": "7a9e9426-28a3-4bfe-9604-e45de5d9ccf3",
   "metadata": {},
   "outputs": [
    {
     "data": {
      "text/plain": [
       "\n",
       "Call:\n",
       "glm(formula = Class ~ . - Time - V2 - V3 - V5 - V6 - V7 - V11 - \n",
       "    V12 - V15 - V16 - V17 - V18 - V19 - V23 - V24 - V25 - V26, \n",
       "    family = \"binomial\", data = train)\n",
       "\n",
       "Coefficients:\n",
       "              Estimate Std. Error z value Pr(>|z|)    \n",
       "(Intercept) -8.7932413  0.1547814 -56.811  < 2e-16 ***\n",
       "V1           0.0604107  0.0564371   1.070 0.284436    \n",
       "V4           0.9679899  0.0952319  10.165  < 2e-16 ***\n",
       "V8          -0.2053318  0.0232197  -8.843  < 2e-16 ***\n",
       "V9          -0.0394636  0.0999030  -0.395 0.692829    \n",
       "V10         -0.8568603  0.0971535  -8.820  < 2e-16 ***\n",
       "V13         -0.3645638  0.0873410  -4.174 2.99e-05 ***\n",
       "V14         -0.6185377  0.0564575 -10.956  < 2e-16 ***\n",
       "V20         -0.1733631  0.0466991  -3.712 0.000205 ***\n",
       "V21          0.3343615  0.0363658   9.194  < 2e-16 ***\n",
       "V22          0.5565970  0.0941543   5.912 3.39e-09 ***\n",
       "V27         -0.3053960  0.0516452  -5.913 3.35e-09 ***\n",
       "V28         -0.1262212  0.0460506  -2.741 0.006127 ** \n",
       "Amount      -0.0002691  0.0001266  -2.126 0.033495 *  \n",
       "---\n",
       "Signif. codes:  0 '***' 0.001 '**' 0.01 '*' 0.05 '.' 0.1 ' ' 1\n",
       "\n",
       "(Dispersion parameter for binomial family taken to be 1)\n",
       "\n",
       "    Null deviance: 5604.8  on 226981  degrees of freedom\n",
       "Residual deviance: 1712.9  on 226968  degrees of freedom\n",
       "AIC: 1740.9\n",
       "\n",
       "Number of Fisher Scoring iterations: 11\n"
      ]
     },
     "metadata": {},
     "output_type": "display_data"
    }
   ],
   "source": [
    "# creating the improved model that removes insignifcant variables from the previous model.\n",
    "ImprovedModel1 <- glm(Class ~ . - Time - V2 - V3 - V5 - V6 - V7 - V11 - V12 - V15 \n",
    "                                - V16 - V17 - V18 - V19 - V23 - V24 - V25 - V26,\n",
    "                                  data = train, family='binomial')\n",
    "\n",
    "# summary of improved model 1\n",
    "summary(ImprovedModel1)\n",
    "\n",
    "# Plotting the improved model 1\n",
    "#par(mfrow = c(2,2))\n",
    "#plot(ImprovedModel1)"
   ]
  },
  {
   "cell_type": "code",
   "execution_count": 39,
   "id": "d0816177-795d-42e6-badf-d4acb9591890",
   "metadata": {},
   "outputs": [
    {
     "name": "stdout",
     "output_type": "stream",
     "text": [
      "      V1       V4       V8       V9      V10      V13      V14      V20 \n",
      "2.614915 2.661608 1.256547 2.426121 5.352173 1.180673 3.646274 3.146950 \n",
      "     V21      V22      V27      V28   Amount \n",
      "2.437473 2.595980 3.906698 1.574583 1.915341 \n"
     ]
    }
   ],
   "source": [
    "print(car::vif(ImprovedModel1))"
   ]
  },
  {
   "cell_type": "markdown",
   "id": "4296bb97-bf33-4cea-a6e8-72a320a8b745",
   "metadata": {},
   "source": [
    "P-value Analysis:\n",
    "- The variables *V1 and V9* show p-value more than threshold (>0.05).\n",
    "- Removing the variables without asterix in the model summary."
   ]
  },
  {
   "cell_type": "markdown",
   "id": "c76eaf95-284f-4214-bd02-415b182024cf",
   "metadata": {},
   "source": [
    "## Improvement 2 : Final Base Model"
   ]
  },
  {
   "cell_type": "code",
   "execution_count": 17,
   "id": "85589ff7-9daf-4ff7-bf53-5c5f6d412683",
   "metadata": {},
   "outputs": [
    {
     "data": {
      "text/plain": [
       "\n",
       "Call:\n",
       "glm(formula = Class ~ . - Time - V2 - V3 - V5 - V6 - V7 - V11 - \n",
       "    V12 - V15 - V16 - V17 - V18 - V19 - V23 - V24 - V25 - V26 - \n",
       "    V1 - V9, family = \"binomial\", data = train)\n",
       "\n",
       "Coefficients:\n",
       "              Estimate Std. Error z value Pr(>|z|)    \n",
       "(Intercept) -8.7847845  0.1507002 -58.293  < 2e-16 ***\n",
       "V4           0.9305036  0.0760066  12.242  < 2e-16 ***\n",
       "V8          -0.2091600  0.0223162  -9.373  < 2e-16 ***\n",
       "V10         -0.7905986  0.0693336 -11.403  < 2e-16 ***\n",
       "V13         -0.3708880  0.0872163  -4.253 2.11e-05 ***\n",
       "V14         -0.6564674  0.0457882 -14.337  < 2e-16 ***\n",
       "V20         -0.1419806  0.0361891  -3.923 8.73e-05 ***\n",
       "V21          0.3320692  0.0357508   9.288  < 2e-16 ***\n",
       "V22          0.5808776  0.0907169   6.403 1.52e-10 ***\n",
       "V27         -0.2691851  0.0410424  -6.559 5.43e-11 ***\n",
       "V28         -0.1179730  0.0401097  -2.941  0.00327 ** \n",
       "Amount      -0.0003012  0.0001222  -2.464  0.01374 *  \n",
       "---\n",
       "Signif. codes:  0 '***' 0.001 '**' 0.01 '*' 0.05 '.' 0.1 ' ' 1\n",
       "\n",
       "(Dispersion parameter for binomial family taken to be 1)\n",
       "\n",
       "    Null deviance: 5604.8  on 226981  degrees of freedom\n",
       "Residual deviance: 1714.3  on 226970  degrees of freedom\n",
       "AIC: 1738.3\n",
       "\n",
       "Number of Fisher Scoring iterations: 11\n"
      ]
     },
     "metadata": {},
     "output_type": "display_data"
    }
   ],
   "source": [
    "# creating the improved model that removes insignifcant variables from the previous model.\n",
    "FinalBaseModel <- glm(Class ~ . - Time - V2 - V3 - V5 - V6 - V7 - V11 - V12 - V15 \n",
    "                                - V16 - V17 - V18 - V19 - V23 - V24 - V25 - V26\n",
    "                                - V1 - V9,\n",
    "                                  data = train, family='binomial')\n",
    "# summary of final model\n",
    "summary(FinalBaseModel)"
   ]
  },
  {
   "cell_type": "code",
   "execution_count": 18,
   "id": "6ebcec1a-2886-4b6f-ba07-f82ce4d96b9c",
   "metadata": {},
   "outputs": [],
   "source": [
    "# Plotting the final model\n",
    "#par(mfrow = c(2,2))\n",
    "#plot(FinalBaseModel)"
   ]
  },
  {
   "cell_type": "code",
   "execution_count": 40,
   "id": "e6e2c41f-b54b-451b-b1e1-6fd336991753",
   "metadata": {},
   "outputs": [
    {
     "name": "stdout",
     "output_type": "stream",
     "text": [
      "      V4       V8      V10      V13      V14      V20      V21      V22 \n",
      "1.763016 1.245904 2.802910 1.188846 2.398981 1.989944 2.519203 2.534370 \n",
      "     V27      V28   Amount \n",
      "2.458193 1.410825 1.667792 \n"
     ]
    }
   ],
   "source": [
    "print(car::vif(FinalBaseModel))"
   ]
  },
  {
   "cell_type": "markdown",
   "id": "4e65472d-622c-474a-957e-e45c82afcd06",
   "metadata": {},
   "source": [
    "FinalBaseModel has all significant features and stable VIFs."
   ]
  },
  {
   "cell_type": "markdown",
   "id": "8a6d165a-fee3-4803-a5e7-9e676d527224",
   "metadata": {},
   "source": [
    "## Evaluation "
   ]
  },
  {
   "cell_type": "code",
   "execution_count": 20,
   "id": "750593da-6e0a-4c72-a426-6072c521a7a7",
   "metadata": {},
   "outputs": [
    {
     "name": "stdout",
     "output_type": "stream",
     "text": [
      "Evaluation of Final Base Model:\n"
     ]
    },
    {
     "data": {
      "text/plain": [
       "Confusion Matrix and Statistics\n",
       "\n",
       "          Reference\n",
       "Prediction     0     1\n",
       "         0 56637    45\n",
       "         1    13    49\n",
       "                                          \n",
       "               Accuracy : 0.999           \n",
       "                 95% CI : (0.9987, 0.9992)\n",
       "    No Information Rate : 0.9983          \n",
       "    P-Value [Acc > NIR] : 4.379e-05       \n",
       "                                          \n",
       "                  Kappa : 0.6277          \n",
       "                                          \n",
       " Mcnemar's Test P-Value : 4.691e-05       \n",
       "                                          \n",
       "            Sensitivity : 0.9998          \n",
       "            Specificity : 0.5213          \n",
       "         Pos Pred Value : 0.9992          \n",
       "         Neg Pred Value : 0.7903          \n",
       "             Prevalence : 0.9983          \n",
       "         Detection Rate : 0.9981          \n",
       "   Detection Prevalence : 0.9989          \n",
       "      Balanced Accuracy : 0.7605          \n",
       "                                          \n",
       "       'Positive' Class : 0               \n",
       "                                          "
      ]
     },
     "metadata": {},
     "output_type": "display_data"
    }
   ],
   "source": [
    "# getting the predictions from the final base model\n",
    "pred <- predict(FinalBaseModel,test, type=\"response\")\n",
    "\n",
    "# Setting threshold for binary classification\n",
    "pred <- as.integer(pred>0.5)\n",
    "\n",
    "# Printing confusion Matrix and evaluation of the model\n",
    "cat('Evaluation of Final Base Model:\\n')\n",
    "confusionMatrix(as.factor(pred),test$Class)"
   ]
  },
  {
   "cell_type": "markdown",
   "id": "8f03f321-d9a6-4fc5-a981-3616efd60787",
   "metadata": {},
   "source": [
    "Interpretation:\n",
    "- if we look at the specificity rate. it is about **52.13%** indicating that the model poorly predict the fraudulent cards which is the most important class label that we want to predict correctly.\n",
    "- Balanced Accuracy is **76.05%**\n",
    "- Hence, we need to handle the class Imbalance."
   ]
  },
  {
   "cell_type": "markdown",
   "id": "929c2a88-26df-480d-b9e8-5c1990b3b67d",
   "metadata": {},
   "source": [
    "# Under sampling the training set"
   ]
  },
  {
   "cell_type": "markdown",
   "id": "90eaeaff-49db-4994-ac29-946081df62a7",
   "metadata": {},
   "source": [
    "in contrast to the above method, this one decreases the size of the majority class to be the same or closer to the minority class size by just taking out a random sample."
   ]
  },
  {
   "cell_type": "markdown",
   "id": "f6866b5f-5529-47c4-b980-e1c4a14c88a8",
   "metadata": {},
   "source": [
    "## Creating under sampled data"
   ]
  },
  {
   "cell_type": "code",
   "execution_count": 21,
   "id": "f124053e-a294-4bc8-9725-b04e0fdca114",
   "metadata": {},
   "outputs": [
    {
     "data": {
      "text/plain": [
       "\n",
       "  0   1 \n",
       "379 379 "
      ]
     },
     "metadata": {},
     "output_type": "display_data"
    },
    {
     "data": {
      "image/png": "[encoded data removed]",
      "text/plain": [
       "Plot with title \"Class distribution of under sampled data\""
      ]
     },
     "metadata": {
      "image/png": {
       "height": 420,
       "width": 420
      }
     },
     "output_type": "display_data"
    }
   ],
   "source": [
    "# Setting seed for reproducibility\n",
    "set.seed(54)\n",
    "\n",
    "# Creating trainunder data by under-sampling the majority class \n",
    "trainunder<-downSample(x=train[,-ncol(train)],\n",
    "                  y=train$Class)\n",
    "\n",
    "# To see the class distribution after under-sampling\n",
    "table(trainunder$Class)\n",
    "\n",
    "# plot the class distribution\n",
    "plot(trainunder$Class, main='Class distribution of under sampled data', col=c('blue', 'orange'))"
   ]
  },
  {
   "cell_type": "markdown",
   "id": "ffe044e8-845b-4499-8bf3-aa4135777896",
   "metadata": {},
   "source": [
    "# Statistical Justification of Under Sampling"
   ]
  },
  {
   "cell_type": "code",
   "execution_count": 22,
   "id": "1a8a6e7e-4a32-4431-bc6b-e80c83d732a7",
   "metadata": {},
   "outputs": [],
   "source": [
    "legit <- train[train$Class == 0, ]\n",
    "fraud <- train[train$Class == 1, ]"
   ]
  },
  {
   "cell_type": "code",
   "execution_count": 23,
   "id": "ccfaedfc-db7c-438f-a140-6c53d32e8ed4",
   "metadata": {},
   "outputs": [
    {
     "name": "stdout",
     "output_type": "stream",
     "text": [
      "Legit shape:  226603 rows, 31 columns\n",
      "Fraud shape:  379 rows, 31 columns\n"
     ]
    }
   ],
   "source": [
    "cat(\"Legit shape: \", nrow(legit), \"rows,\", ncol(legit), \"columns\\n\")\n",
    "cat(\"Fraud shape: \", nrow(fraud), \"rows,\", ncol(fraud), \"columns\\n\")"
   ]
  },
  {
   "cell_type": "code",
   "execution_count": 24,
   "id": "08fbe813-60b8-48f1-8d0b-39f358b6a543",
   "metadata": {},
   "outputs": [
    {
     "data": {
      "text/plain": [
       "   Min. 1st Qu.  Median    Mean 3rd Qu.    Max. \n",
       "    0.0     5.7    22.0    88.9    77.9 25691.2 "
      ]
     },
     "metadata": {},
     "output_type": "display_data"
    }
   ],
   "source": [
    "summary(legit$Amount)"
   ]
  },
  {
   "cell_type": "code",
   "execution_count": 25,
   "id": "2ada3ca2-5bc8-49cf-9880-3c71136fdc2d",
   "metadata": {},
   "outputs": [
    {
     "data": {
      "text/plain": [
       "   Min. 1st Qu.  Median    Mean 3rd Qu.    Max. \n",
       "   0.00    1.00    9.13  107.16   99.99 2125.87 "
      ]
     },
     "metadata": {},
     "output_type": "display_data"
    }
   ],
   "source": [
    "summary(fraud$Amount)"
   ]
  },
  {
   "cell_type": "code",
   "execution_count": 26,
   "id": "2481b019-2553-4dcf-aa00-8b8d3f943cf3",
   "metadata": {},
   "outputs": [
    {
     "data": {
      "text/html": [
       "<table class=\"dataframe\">\n",
       "<caption>A data.frame: 2 × 31</caption>\n",
       "<thead>\n",
       "\t<tr><th scope=col>Class</th><th scope=col>Time</th><th scope=col>V1</th><th scope=col>V2</th><th scope=col>V3</th><th scope=col>V4</th><th scope=col>V5</th><th scope=col>V6</th><th scope=col>V7</th><th scope=col>V8</th><th scope=col>⋯</th><th scope=col>V20</th><th scope=col>V21</th><th scope=col>V22</th><th scope=col>V23</th><th scope=col>V24</th><th scope=col>V25</th><th scope=col>V26</th><th scope=col>V27</th><th scope=col>V28</th><th scope=col>Amount</th></tr>\n",
       "\t<tr><th scope=col>&lt;fct&gt;</th><th scope=col>&lt;dbl&gt;</th><th scope=col>&lt;dbl&gt;</th><th scope=col>&lt;dbl&gt;</th><th scope=col>&lt;dbl&gt;</th><th scope=col>&lt;dbl&gt;</th><th scope=col>&lt;dbl&gt;</th><th scope=col>&lt;dbl&gt;</th><th scope=col>&lt;dbl&gt;</th><th scope=col>&lt;dbl&gt;</th><th scope=col>⋯</th><th scope=col>&lt;dbl&gt;</th><th scope=col>&lt;dbl&gt;</th><th scope=col>&lt;dbl&gt;</th><th scope=col>&lt;dbl&gt;</th><th scope=col>&lt;dbl&gt;</th><th scope=col>&lt;dbl&gt;</th><th scope=col>&lt;dbl&gt;</th><th scope=col>&lt;dbl&gt;</th><th scope=col>&lt;dbl&gt;</th><th scope=col>&lt;dbl&gt;</th></tr>\n",
       "</thead>\n",
       "<tbody>\n",
       "\t<tr><td>0</td><td>94834.55</td><td> 0.007001008</td><td>-0.008353981</td><td> 0.007661176</td><td>-0.007216458</td><td> 0.004607641</td><td> 0.001898527</td><td> 0.008277514</td><td>-0.0003253694</td><td>⋯</td><td>0.0009270047</td><td>-0.001594358</td><td>-7.615689e-05</td><td>-0.0006476496</td><td> 0.002270226</td><td>-3.331685e-05</td><td>-0.001238141</td><td>0.003626107</td><td>0.0004134617</td><td> 88.90266</td></tr>\n",
       "\t<tr><td>1</td><td>80407.87</td><td>-2.242162308</td><td> 2.102071508</td><td>-4.450735509</td><td> 3.140026284</td><td>-2.097308978</td><td>-1.127132419</td><td>-4.230636981</td><td> 0.8182533522</td><td>⋯</td><td>0.5063469341</td><td> 0.692486534</td><td> 8.761194e-02</td><td>-0.1749936490</td><td>-0.161116834</td><td> 7.352219e-02</td><td> 0.065837632</td><td>0.554333202</td><td>0.3010684510</td><td>107.16369</td></tr>\n",
       "</tbody>\n",
       "</table>\n"
      ],
      "text/latex": [
       "A data.frame: 2 × 31\n",
       "\\begin{tabular}{lllllllllllllllllllll}\n",
       " Class & Time & V1 & V2 & V3 & V4 & V5 & V6 & V7 & V8 & ⋯ & V20 & V21 & V22 & V23 & V24 & V25 & V26 & V27 & V28 & Amount\\\\\n",
       " <fct> & <dbl> & <dbl> & <dbl> & <dbl> & <dbl> & <dbl> & <dbl> & <dbl> & <dbl> & ⋯ & <dbl> & <dbl> & <dbl> & <dbl> & <dbl> & <dbl> & <dbl> & <dbl> & <dbl> & <dbl>\\\\\n",
       "\\hline\n",
       "\t 0 & 94834.55 &  0.007001008 & -0.008353981 &  0.007661176 & -0.007216458 &  0.004607641 &  0.001898527 &  0.008277514 & -0.0003253694 & ⋯ & 0.0009270047 & -0.001594358 & -7.615689e-05 & -0.0006476496 &  0.002270226 & -3.331685e-05 & -0.001238141 & 0.003626107 & 0.0004134617 &  88.90266\\\\\n",
       "\t 1 & 80407.87 & -2.242162308 &  2.102071508 & -4.450735509 &  3.140026284 & -2.097308978 & -1.127132419 & -4.230636981 &  0.8182533522 & ⋯ & 0.5063469341 &  0.692486534 &  8.761194e-02 & -0.1749936490 & -0.161116834 &  7.352219e-02 &  0.065837632 & 0.554333202 & 0.3010684510 & 107.16369\\\\\n",
       "\\end{tabular}\n"
      ],
      "text/markdown": [
       "\n",
       "A data.frame: 2 × 31\n",
       "\n",
       "| Class &lt;fct&gt; | Time &lt;dbl&gt; | V1 &lt;dbl&gt; | V2 &lt;dbl&gt; | V3 &lt;dbl&gt; | V4 &lt;dbl&gt; | V5 &lt;dbl&gt; | V6 &lt;dbl&gt; | V7 &lt;dbl&gt; | V8 &lt;dbl&gt; | ⋯ ⋯ | V20 &lt;dbl&gt; | V21 &lt;dbl&gt; | V22 &lt;dbl&gt; | V23 &lt;dbl&gt; | V24 &lt;dbl&gt; | V25 &lt;dbl&gt; | V26 &lt;dbl&gt; | V27 &lt;dbl&gt; | V28 &lt;dbl&gt; | Amount &lt;dbl&gt; |\n",
       "|---|---|---|---|---|---|---|---|---|---|---|---|---|---|---|---|---|---|---|---|---|\n",
       "| 0 | 94834.55 |  0.007001008 | -0.008353981 |  0.007661176 | -0.007216458 |  0.004607641 |  0.001898527 |  0.008277514 | -0.0003253694 | ⋯ | 0.0009270047 | -0.001594358 | -7.615689e-05 | -0.0006476496 |  0.002270226 | -3.331685e-05 | -0.001238141 | 0.003626107 | 0.0004134617 |  88.90266 |\n",
       "| 1 | 80407.87 | -2.242162308 |  2.102071508 | -4.450735509 |  3.140026284 | -2.097308978 | -1.127132419 | -4.230636981 |  0.8182533522 | ⋯ | 0.5063469341 |  0.692486534 |  8.761194e-02 | -0.1749936490 | -0.161116834 |  7.352219e-02 |  0.065837632 | 0.554333202 | 0.3010684510 | 107.16369 |\n",
       "\n"
      ],
      "text/plain": [
       "  Class Time     V1           V2           V3           V4          \n",
       "1 0     94834.55  0.007001008 -0.008353981  0.007661176 -0.007216458\n",
       "2 1     80407.87 -2.242162308  2.102071508 -4.450735509  3.140026284\n",
       "  V5           V6           V7           V8            ⋯ V20         \n",
       "1  0.004607641  0.001898527  0.008277514 -0.0003253694 ⋯ 0.0009270047\n",
       "2 -2.097308978 -1.127132419 -4.230636981  0.8182533522 ⋯ 0.5063469341\n",
       "  V21          V22           V23           V24          V25          \n",
       "1 -0.001594358 -7.615689e-05 -0.0006476496  0.002270226 -3.331685e-05\n",
       "2  0.692486534  8.761194e-02 -0.1749936490 -0.161116834  7.352219e-02\n",
       "  V26          V27         V28          Amount   \n",
       "1 -0.001238141 0.003626107 0.0004134617  88.90266\n",
       "2  0.065837632 0.554333202 0.3010684510 107.16369"
      ]
     },
     "metadata": {},
     "output_type": "display_data"
    }
   ],
   "source": [
    "# Using aggregate to calculate mean for each column grouped by 'Class'\n",
    "mean_by_class <- aggregate(. ~ Class, data = train, FUN = mean)\n",
    "mean_by_class"
   ]
  },
  {
   "cell_type": "code",
   "execution_count": 27,
   "id": "da924f24-b495-48ac-921a-1be923b288fa",
   "metadata": {},
   "outputs": [
    {
     "data": {
      "text/html": [
       "<table class=\"dataframe\">\n",
       "<caption>A data.frame: 2 × 31</caption>\n",
       "<thead>\n",
       "\t<tr><th scope=col>Class</th><th scope=col>Time</th><th scope=col>V1</th><th scope=col>V2</th><th scope=col>V3</th><th scope=col>V4</th><th scope=col>V5</th><th scope=col>V6</th><th scope=col>V7</th><th scope=col>V8</th><th scope=col>⋯</th><th scope=col>V20</th><th scope=col>V21</th><th scope=col>V22</th><th scope=col>V23</th><th scope=col>V24</th><th scope=col>V25</th><th scope=col>V26</th><th scope=col>V27</th><th scope=col>V28</th><th scope=col>Amount</th></tr>\n",
       "\t<tr><th scope=col>&lt;fct&gt;</th><th scope=col>&lt;dbl&gt;</th><th scope=col>&lt;dbl&gt;</th><th scope=col>&lt;dbl&gt;</th><th scope=col>&lt;dbl&gt;</th><th scope=col>&lt;dbl&gt;</th><th scope=col>&lt;dbl&gt;</th><th scope=col>&lt;dbl&gt;</th><th scope=col>&lt;dbl&gt;</th><th scope=col>&lt;dbl&gt;</th><th scope=col>⋯</th><th scope=col>&lt;dbl&gt;</th><th scope=col>&lt;dbl&gt;</th><th scope=col>&lt;dbl&gt;</th><th scope=col>&lt;dbl&gt;</th><th scope=col>&lt;dbl&gt;</th><th scope=col>&lt;dbl&gt;</th><th scope=col>&lt;dbl&gt;</th><th scope=col>&lt;dbl&gt;</th><th scope=col>&lt;dbl&gt;</th><th scope=col>&lt;dbl&gt;</th></tr>\n",
       "</thead>\n",
       "<tbody>\n",
       "\t<tr><td>0</td><td>94914.12</td><td> 0.020469</td><td>0.00384579</td><td> 0.05410225</td><td>-0.03033109</td><td>-0.003606505</td><td>-0.007743007</td><td> 0.03445099</td><td>-0.00132401</td><td>⋯</td><td>0.01811972</td><td>-0.01220921</td><td>0.03232515</td><td>-0.02033653</td><td> 0.004750908</td><td>0.04115100</td><td>-0.03448381</td><td>-0.00292836</td><td>-0.003023111</td><td> 85.16071</td></tr>\n",
       "\t<tr><td>1</td><td>80407.87</td><td>-2.242162</td><td>2.10207151</td><td>-4.45073551</td><td> 3.14002628</td><td>-2.097308978</td><td>-1.127132419</td><td>-4.23063698</td><td> 0.81825335</td><td>⋯</td><td>0.50634693</td><td> 0.69248653</td><td>0.08761194</td><td>-0.17499365</td><td>-0.161116834</td><td>0.07352219</td><td> 0.06583763</td><td> 0.55433320</td><td> 0.301068451</td><td>107.16369</td></tr>\n",
       "</tbody>\n",
       "</table>\n"
      ],
      "text/latex": [
       "A data.frame: 2 × 31\n",
       "\\begin{tabular}{lllllllllllllllllllll}\n",
       " Class & Time & V1 & V2 & V3 & V4 & V5 & V6 & V7 & V8 & ⋯ & V20 & V21 & V22 & V23 & V24 & V25 & V26 & V27 & V28 & Amount\\\\\n",
       " <fct> & <dbl> & <dbl> & <dbl> & <dbl> & <dbl> & <dbl> & <dbl> & <dbl> & <dbl> & ⋯ & <dbl> & <dbl> & <dbl> & <dbl> & <dbl> & <dbl> & <dbl> & <dbl> & <dbl> & <dbl>\\\\\n",
       "\\hline\n",
       "\t 0 & 94914.12 &  0.020469 & 0.00384579 &  0.05410225 & -0.03033109 & -0.003606505 & -0.007743007 &  0.03445099 & -0.00132401 & ⋯ & 0.01811972 & -0.01220921 & 0.03232515 & -0.02033653 &  0.004750908 & 0.04115100 & -0.03448381 & -0.00292836 & -0.003023111 &  85.16071\\\\\n",
       "\t 1 & 80407.87 & -2.242162 & 2.10207151 & -4.45073551 &  3.14002628 & -2.097308978 & -1.127132419 & -4.23063698 &  0.81825335 & ⋯ & 0.50634693 &  0.69248653 & 0.08761194 & -0.17499365 & -0.161116834 & 0.07352219 &  0.06583763 &  0.55433320 &  0.301068451 & 107.16369\\\\\n",
       "\\end{tabular}\n"
      ],
      "text/markdown": [
       "\n",
       "A data.frame: 2 × 31\n",
       "\n",
       "| Class &lt;fct&gt; | Time &lt;dbl&gt; | V1 &lt;dbl&gt; | V2 &lt;dbl&gt; | V3 &lt;dbl&gt; | V4 &lt;dbl&gt; | V5 &lt;dbl&gt; | V6 &lt;dbl&gt; | V7 &lt;dbl&gt; | V8 &lt;dbl&gt; | ⋯ ⋯ | V20 &lt;dbl&gt; | V21 &lt;dbl&gt; | V22 &lt;dbl&gt; | V23 &lt;dbl&gt; | V24 &lt;dbl&gt; | V25 &lt;dbl&gt; | V26 &lt;dbl&gt; | V27 &lt;dbl&gt; | V28 &lt;dbl&gt; | Amount &lt;dbl&gt; |\n",
       "|---|---|---|---|---|---|---|---|---|---|---|---|---|---|---|---|---|---|---|---|---|\n",
       "| 0 | 94914.12 |  0.020469 | 0.00384579 |  0.05410225 | -0.03033109 | -0.003606505 | -0.007743007 |  0.03445099 | -0.00132401 | ⋯ | 0.01811972 | -0.01220921 | 0.03232515 | -0.02033653 |  0.004750908 | 0.04115100 | -0.03448381 | -0.00292836 | -0.003023111 |  85.16071 |\n",
       "| 1 | 80407.87 | -2.242162 | 2.10207151 | -4.45073551 |  3.14002628 | -2.097308978 | -1.127132419 | -4.23063698 |  0.81825335 | ⋯ | 0.50634693 |  0.69248653 | 0.08761194 | -0.17499365 | -0.161116834 | 0.07352219 |  0.06583763 |  0.55433320 |  0.301068451 | 107.16369 |\n",
       "\n"
      ],
      "text/plain": [
       "  Class Time     V1        V2         V3          V4          V5          \n",
       "1 0     94914.12  0.020469 0.00384579  0.05410225 -0.03033109 -0.003606505\n",
       "2 1     80407.87 -2.242162 2.10207151 -4.45073551  3.14002628 -2.097308978\n",
       "  V6           V7          V8          ⋯ V20        V21         V22       \n",
       "1 -0.007743007  0.03445099 -0.00132401 ⋯ 0.01811972 -0.01220921 0.03232515\n",
       "2 -1.127132419 -4.23063698  0.81825335 ⋯ 0.50634693  0.69248653 0.08761194\n",
       "  V23         V24          V25        V26         V27         V28         \n",
       "1 -0.02033653  0.004750908 0.04115100 -0.03448381 -0.00292836 -0.003023111\n",
       "2 -0.17499365 -0.161116834 0.07352219  0.06583763  0.55433320  0.301068451\n",
       "  Amount   \n",
       "1  85.16071\n",
       "2 107.16369"
      ]
     },
     "metadata": {},
     "output_type": "display_data"
    }
   ],
   "source": [
    "# Using aggregate to calculate mean for each column grouped by 'Class'\n",
    "mean_by_class_under <- aggregate(. ~ Class, data = trainunder, FUN = mean)\n",
    "mean_by_class_under"
   ]
  },
  {
   "cell_type": "code",
   "execution_count": 28,
   "id": "47ca76c9-cc42-46e2-90ab-ca3620f0d8f3",
   "metadata": {},
   "outputs": [
    {
     "data": {
      "image/png": "[encoded data removed]",
      "text/plain": [
       "plot without title"
      ]
     },
     "metadata": {
      "image/png": {
       "height": 420,
       "width": 420
      }
     },
     "output_type": "display_data"
    }
   ],
   "source": [
    "# Combine both sets of means for easier comparison, focusing only on the 'Amount' column\n",
    "combined_means <- bind_rows(\n",
    "  mutate(mean_by_class[, c(\"Class\", \"Amount\")], Dataset = \"Original\"),\n",
    "  mutate(mean_by_class_under[, c(\"Class\", \"Amount\")], Dataset = \"Undersampled\")\n",
    ")\n",
    "\n",
    "# Plot the results focusing on 'Amount'\n",
    "ggplot(combined_means, aes(x = Dataset, y = Amount, fill = Dataset)) +\n",
    "  geom_bar(stat = \"identity\", position = \"dodge\") +\n",
    "  facet_wrap(~Class, scales = \"free\") +  # One plot per class\n",
    "  #theme_minimal() +\n",
    "  labs(title = \"Comparison of Mean Amount by Class and Dataset\",\n",
    "       y = \"Mean Amount\",\n",
    "       x = \"\")"
   ]
  },
  {
   "cell_type": "markdown",
   "id": "79322f8d-5106-40dd-8b15-fef8173c318b",
   "metadata": {},
   "source": [
    "Statistical Analysis:\n",
    "- **Class 0 (Legitimate Transactions)**:\n",
    "In the original dataset, the mean Amount for legitimate transactions is approximately 88.90. After undersampling, this value slightly decreased to around 85.16. This minor change suggests that the key financial characteristic (Amount) of legitimate transactions is largely preserved despite the reduction in sample size.\n",
    "The slight differences observed in other features (like V1 to V28) between the original and undersampled datasets for Class 0 are mostly marginal, indicating that the general profile of legitimate transactions is maintained.\n",
    "- **Class 1 (Fraudulent Transactions)**:\n",
    "The mean values for fraudulent transactions remain consistent between the original and undersampled datasets. For instance, the mean Amount remains exactly the same at 107.16. This consistency is critical as it indicates that the undersampling has not altered the fundamental characteristics of fraudulent transactions.\n",
    "The values for other features related to fraudulent transactions (e.g., V1 to V28) also show no variation, underscoring the ability of undersampling to retain the integrity of over-represented class characteristics even when the dataset size is reduced."
   ]
  },
  {
   "cell_type": "markdown",
   "id": "236a3a5c-24b7-4568-9811-d86dd63b2457",
   "metadata": {},
   "source": [
    "Conclusion:\n",
    "- The comparison of mean values between the original and undersampled datasets suggests that undersampling is a viable method for balancing class distribution without significant loss of information. For both classes, the means of critical features, particularly the amount of the transaction, show minimal to no variation, affirming that the statistical properties essential for further analysis or model training are preserved. This outcome supports the use of undersampling as a technique in scenarios where class imbalance could otherwise skew the performance of predictive modeling, especially in fraud detection contexts where preserving the characteristics of the minority class is crucial."
   ]
  },
  {
   "cell_type": "markdown",
   "id": "d9925a16-e0a1-49a4-84bd-4358d05cf18f",
   "metadata": {},
   "source": [
    "Implications:\n",
    "- The effectiveness of undersampling in this context allows for more balanced data handling and potentially improves the performance of machine learning models by addressing class imbalance. It ensures that the models are not biased toward the majority class and can detect patterns in the minority class (fraudulent transactions) more effectively."
   ]
  },
  {
   "cell_type": "markdown",
   "id": "fc7b7e3a-c658-4900-8271-1d4c7047d138",
   "metadata": {},
   "source": [
    "## Under Sampled Model"
   ]
  },
  {
   "cell_type": "code",
   "execution_count": 29,
   "id": "0f8e5833-1b41-4d8d-8a5a-92966b418ac8",
   "metadata": {},
   "outputs": [
    {
     "name": "stderr",
     "output_type": "stream",
     "text": [
      "Warning message:\n",
      "\"glm.fit: fitted probabilities numerically 0 or 1 occurred\"\n"
     ]
    },
    {
     "data": {
      "text/plain": [
       "\n",
       "Call:\n",
       "glm(formula = Class ~ . - Time - V2 - V3 - V5 - V6 - V7 - V11 - \n",
       "    V12 - V15 - V16 - V17 - V18 - V19 - V23 - V24 - V25 - V26 - \n",
       "    V1 - V9, family = \"binomial\", data = trainunder)\n",
       "\n",
       "Coefficients:\n",
       "             Estimate Std. Error z value Pr(>|z|)    \n",
       "(Intercept) -3.816228   0.355734 -10.728  < 2e-16 ***\n",
       "V4           1.711166   0.234598   7.294 3.01e-13 ***\n",
       "V8          -0.587003   0.149910  -3.916 9.01e-05 ***\n",
       "V10         -0.585148   0.208557  -2.806  0.00502 ** \n",
       "V13         -0.444032   0.212248  -2.092  0.03643 *  \n",
       "V14         -1.062142   0.183559  -5.786 7.19e-09 ***\n",
       "V20         -0.662330   0.287769  -2.302  0.02136 *  \n",
       "V21         -0.185670   0.155694  -1.193  0.23305    \n",
       "V22          0.064231   0.212883   0.302  0.76287    \n",
       "V27          0.270889   0.198410   1.365  0.17216    \n",
       "V28          0.271912   0.210689   1.291  0.19685    \n",
       "Amount       0.002555   0.001004   2.545  0.01094 *  \n",
       "---\n",
       "Signif. codes:  0 '***' 0.001 '**' 0.01 '*' 0.05 '.' 0.1 ' ' 1\n",
       "\n",
       "(Dispersion parameter for binomial family taken to be 1)\n",
       "\n",
       "    Null deviance: 1050.81  on 757  degrees of freedom\n",
       "Residual deviance:  191.36  on 746  degrees of freedom\n",
       "AIC: 215.36\n",
       "\n",
       "Number of Fisher Scoring iterations: 9\n"
      ]
     },
     "metadata": {},
     "output_type": "display_data"
    }
   ],
   "source": [
    "# Setting seed for reproducibility\n",
    "set.seed(123)\n",
    "\n",
    "# Creating model with significant variables using under-sampled-train-data\n",
    "underSampleModel <- glm(Class ~ . - Time - V2 - V3 - V5 - V6 - V7 - V11 - V12 - V15 \n",
    "                                 - V16 - V17 - V18 - V19 - V23 - V24 - V25 - V26\n",
    "                                 - V1 - V9,\n",
    "                                   data = trainunder, family='binomial')\n",
    "\n",
    "# summary of under-sampled model\n",
    "summary(underSampleModel)"
   ]
  },
  {
   "cell_type": "code",
   "execution_count": 35,
   "id": "1e842405-1934-4631-91ca-479574dfa515",
   "metadata": {},
   "outputs": [
    {
     "data": {
      "image/png": "[encoded data removed]",
      "text/plain": [
       "Plot with title \"\""
      ]
     },
     "metadata": {
      "image/png": {
       "height": 420,
       "width": 420
      }
     },
     "output_type": "display_data"
    }
   ],
   "source": [
    "# Plotting the under-sampled model\n",
    "par(mfrow = c(2,2))\n",
    "plot(underSampleModel)"
   ]
  },
  {
   "cell_type": "markdown",
   "id": "2b9e3a6e-a577-40d8-89b4-ede63d23392f",
   "metadata": {},
   "source": [
    "# Improvement 1: Outliear Removal "
   ]
  },
  {
   "cell_type": "code",
   "execution_count": 31,
   "id": "15c96124-4a98-448b-b474-aefcef4870f4",
   "metadata": {},
   "outputs": [
    {
     "name": "stderr",
     "output_type": "stream",
     "text": [
      "Warning message:\n",
      "\"glm.fit: fitted probabilities numerically 0 or 1 occurred\"\n"
     ]
    },
    {
     "data": {
      "text/plain": [
       "\n",
       "Call:\n",
       "glm(formula = Class ~ . - Time - V2 - V3 - V5 - V6 - V7 - V11 - \n",
       "    V12 - V15 - V16 - V17 - V18 - V19 - V23 - V24 - V25 - V26 - \n",
       "    V1 - V9 - V21 - V22 - V27 - V28, family = \"binomial\", data = trainunder_clean)\n",
       "\n",
       "Coefficients:\n",
       "              Estimate Std. Error z value Pr(>|z|)    \n",
       "(Intercept) -3.9808089  0.3783963 -10.520  < 2e-16 ***\n",
       "V4           1.7329358  0.2475328   7.001 2.54e-12 ***\n",
       "V8          -0.5523384  0.1646186  -3.355 0.000793 ***\n",
       "V10         -0.6260756  0.2535500  -2.469 0.013540 *  \n",
       "V13         -0.6278952  0.2245659  -2.796 0.005173 ** \n",
       "V14         -1.0912531  0.2063149  -5.289 1.23e-07 ***\n",
       "V20         -0.3832951  0.2516094  -1.523 0.127665    \n",
       "Amount       0.0016761  0.0009421   1.779 0.075221 .  \n",
       "---\n",
       "Signif. codes:  0 '***' 0.001 '**' 0.01 '*' 0.05 '.' 0.1 ' ' 1\n",
       "\n",
       "(Dispersion parameter for binomial family taken to be 1)\n",
       "\n",
       "    Null deviance: 1046.64  on 754  degrees of freedom\n",
       "Residual deviance:  173.74  on 747  degrees of freedom\n",
       "AIC: 189.74\n",
       "\n",
       "Number of Fisher Scoring iterations: 9\n"
      ]
     },
     "metadata": {},
     "output_type": "display_data"
    },
    {
     "data": {
      "image/png": "[encoded data removed]",
      "text/plain": [
       "Plot with title \"\""
      ]
     },
     "metadata": {
      "image/png": {
       "height": 420,
       "width": 420
      }
     },
     "output_type": "display_data"
    },
    {
     "data": {
      "image/png": "[encoded data removed]",
      "text/plain": [
       "Plot with title \"\""
      ]
     },
     "metadata": {
      "image/png": {
       "height": 420,
       "width": 420
      }
     },
     "output_type": "display_data"
    },
    {
     "data": {
      "image/png": "[encoded data removed]",
      "text/plain": [
       "Plot with title \"\""
      ]
     },
     "metadata": {
      "image/png": {
       "height": 420,
       "width": 420
      }
     },
     "output_type": "display_data"
    },
    {
     "data": {
      "image/png": "[encoded data removed]",
      "text/plain": [
       "Plot with title \"\""
      ]
     },
     "metadata": {
      "image/png": {
       "height": 420,
       "width": 420
      }
     },
     "output_type": "display_data"
    }
   ],
   "source": [
    "# Setting seed for reproducibility\n",
    "set.seed(123)\n",
    "\n",
    "# Removing the outlier\n",
    "trainunder_clean <- trainunder[-c(616, 545, 589), ]\n",
    "\n",
    "# Creating the model again with the cleaned data\n",
    "underSampleModel_clean <- glm(Class ~ . - Time - V2 - V3 - V5 - V6 - V7 - V11 - V12 - V15 \n",
    "                                      - V16 - V17 - V18 - V19 - V23 - V24 - V25 - V26\n",
    "                                      - V1 - V9 - V21 - V22 - V27 - V28 ,\n",
    "                              data = trainunder_clean, family = 'binomial')\n",
    "\n",
    "# Summary of the new model without the outlier\n",
    "summary(underSampleModel_clean)\n",
    "\n",
    "# Plotting the new model diagnostics\n",
    "#par(mfrow = c(2, 2))\n",
    "plot(underSampleModel_clean)\n"
   ]
  },
  {
   "cell_type": "code",
   "execution_count": 36,
   "id": "2ae1a7c3-40ff-423b-8f67-296e06669a0a",
   "metadata": {},
   "outputs": [
    {
     "data": {
      "image/png": "[encoded data removed]",
      "text/plain": [
       "Plot with title \"\""
      ]
     },
     "metadata": {
      "image/png": {
       "height": 420,
       "width": 420
      }
     },
     "output_type": "display_data"
    }
   ],
   "source": [
    "# Plotting the new model diagnostics\n",
    "par(mfrow = c(2, 2))\n",
    "plot(underSampleModel_clean)"
   ]
  },
  {
   "cell_type": "markdown",
   "id": "19f82545-cfab-4c14-bb2f-08bc48312a1c",
   "metadata": {},
   "source": [
    "## Evaluation"
   ]
  },
  {
   "cell_type": "code",
   "execution_count": 37,
   "id": "dc5e3bc5-8163-4085-b7c4-57eaada3937a",
   "metadata": {},
   "outputs": [
    {
     "name": "stdout",
     "output_type": "stream",
     "text": [
      "Evaluation of under-Sampled clean Model:\n"
     ]
    },
    {
     "data": {
      "text/plain": [
       "Confusion Matrix and Statistics\n",
       "\n",
       "          Reference\n",
       "Prediction     0     1\n",
       "         0 54387    13\n",
       "         1  2263    81\n",
       "                                          \n",
       "               Accuracy : 0.9599          \n",
       "                 95% CI : (0.9582, 0.9615)\n",
       "    No Information Rate : 0.9983          \n",
       "    P-Value [Acc > NIR] : 1               \n",
       "                                          \n",
       "                  Kappa : 0.0635          \n",
       "                                          \n",
       " Mcnemar's Test P-Value : <2e-16          \n",
       "                                          \n",
       "            Sensitivity : 0.96005         \n",
       "            Specificity : 0.86170         \n",
       "         Pos Pred Value : 0.99976         \n",
       "         Neg Pred Value : 0.03456         \n",
       "              Precision : 0.99976         \n",
       "                 Recall : 0.96005         \n",
       "                     F1 : 0.97950         \n",
       "             Prevalence : 0.99834         \n",
       "         Detection Rate : 0.95846         \n",
       "   Detection Prevalence : 0.95869         \n",
       "      Balanced Accuracy : 0.91088         \n",
       "                                          \n",
       "       'Positive' Class : 0               \n",
       "                                          "
      ]
     },
     "metadata": {},
     "output_type": "display_data"
    }
   ],
   "source": [
    "# getting the predictions from the under-sampled model\n",
    "pred_under <- predict(underSampleModel_clean,test, type=\"response\")\n",
    "\n",
    "# Setting threshold for binary classification\n",
    "pred_under <- as.integer(pred_under>0.5)\n",
    "\n",
    "# Printing confusion Matrix and evaluation of the under-sampled model\n",
    "cat('Evaluation of under-Sampled clean Model:\\n')\n",
    "confusionMatrix(as.factor(pred_under),test$Class, mode = 'everything')"
   ]
  },
  {
   "cell_type": "code",
   "execution_count": 33,
   "id": "3137fa58-cd60-41ce-8aa1-beb42d16071d",
   "metadata": {},
   "outputs": [
    {
     "data": {
      "text/html": [
       "<style>\n",
       ".dl-inline {width: auto; margin:0; padding: 0}\n",
       ".dl-inline>dt, .dl-inline>dd {float: none; width: auto; display: inline-block}\n",
       ".dl-inline>dt::after {content: \":\\0020\"; padding-right: .5ex}\n",
       ".dl-inline>dt:not(:first-of-type) {padding-left: .5ex}\n",
       "</style><dl class=dl-inline><dt>V4</dt><dd>1.59518757637952</dd><dt>V8</dt><dd>1.23175531525956</dd><dt>V10</dt><dd>1.93273461209084</dd><dt>V13</dt><dd>1.1186425010137</dd><dt>V14</dt><dd>1.51937426766528</dd><dt>V20</dt><dd>2.29039936952946</dd><dt>Amount</dt><dd>1.92813660587324</dd></dl>\n"
      ],
      "text/latex": [
       "\\begin{description*}\n",
       "\\item[V4] 1.59518757637952\n",
       "\\item[V8] 1.23175531525956\n",
       "\\item[V10] 1.93273461209084\n",
       "\\item[V13] 1.1186425010137\n",
       "\\item[V14] 1.51937426766528\n",
       "\\item[V20] 2.29039936952946\n",
       "\\item[Amount] 1.92813660587324\n",
       "\\end{description*}\n"
      ],
      "text/markdown": [
       "V4\n",
       ":   1.59518757637952V8\n",
       ":   1.23175531525956V10\n",
       ":   1.93273461209084V13\n",
       ":   1.1186425010137V14\n",
       ":   1.51937426766528V20\n",
       ":   2.29039936952946Amount\n",
       ":   1.92813660587324\n",
       "\n"
      ],
      "text/plain": [
       "      V4       V8      V10      V13      V14      V20   Amount \n",
       "1.595188 1.231755 1.932735 1.118643 1.519374 2.290399 1.928137 "
      ]
     },
     "metadata": {},
     "output_type": "display_data"
    }
   ],
   "source": [
    "car::vif(underSampleModel_clean)"
   ]
  },
  {
   "cell_type": "markdown",
   "id": "8927d770-5a3e-4e8b-b001-986e9779069d",
   "metadata": {},
   "source": [
    "Interpretation:\n",
    "- we get approximately specificity rate **86.17 %** with a balanced accuracy rate **91.08%**, and the sensitivity rate has decreased to **95.99%** since we have decreased the majority class size by undersampling."
   ]
  },
  {
   "cell_type": "markdown",
   "id": "951cb273-14f4-487b-ae39-759b2a045c78",
   "metadata": {},
   "source": [
    "# Evaluation On Entire Data"
   ]
  },
  {
   "cell_type": "code",
   "execution_count": 34,
   "id": "e43f0816-eb5d-4d35-a136-fed760fb960d",
   "metadata": {},
   "outputs": [
    {
     "name": "stdout",
     "output_type": "stream",
     "text": [
      "Evaluation of under-Sampled clean Model on Entire Data:\n"
     ]
    },
    {
     "data": {
      "text/plain": [
       "Confusion Matrix and Statistics\n",
       "\n",
       "          Reference\n",
       "Prediction      0      1\n",
       "         0 271896     41\n",
       "         1  11357    432\n",
       "                                          \n",
       "               Accuracy : 0.9598          \n",
       "                 95% CI : (0.9591, 0.9605)\n",
       "    No Information Rate : 0.9983          \n",
       "    P-Value [Acc > NIR] : 1               \n",
       "                                          \n",
       "                  Kappa : 0.0675          \n",
       "                                          \n",
       " Mcnemar's Test P-Value : <2e-16          \n",
       "                                          \n",
       "            Sensitivity : 0.95991         \n",
       "            Specificity : 0.91332         \n",
       "         Pos Pred Value : 0.99985         \n",
       "         Neg Pred Value : 0.03664         \n",
       "              Precision : 0.99985         \n",
       "                 Recall : 0.95991         \n",
       "                     F1 : 0.97947         \n",
       "             Prevalence : 0.99833         \n",
       "         Detection Rate : 0.95830         \n",
       "   Detection Prevalence : 0.95845         \n",
       "      Balanced Accuracy : 0.93661         \n",
       "                                          \n",
       "       'Positive' Class : 0               \n",
       "                                          "
      ]
     },
     "metadata": {},
     "output_type": "display_data"
    }
   ],
   "source": [
    "# getting the predictions from the under-sampled model\n",
    "pred_all <- predict(underSampleModel_clean,data, type=\"response\")\n",
    "\n",
    "# Setting threshold for binary classification\n",
    "pred_all <- as.integer(pred_all>0.5)\n",
    "\n",
    "# Printing confusion Matrix and evaluation of the under-sampled model\n",
    "cat('Evaluation of under-Sampled clean Model on Entire Data:\\n')\n",
    "confusionMatrix(as.factor(pred_all),data$Class, mode = 'everything')"
   ]
  },
  {
   "cell_type": "code",
   "execution_count": null,
   "id": "6656a9af-6551-41c1-8155-cb497261e3c0",
   "metadata": {},
   "outputs": [],
   "source": []
  }
 ],
 "metadata": {
  "kernelspec": {
   "display_name": "R",
   "language": "R",
   "name": "ir"
  },
  "language_info": {
   "codemirror_mode": "r",
   "file_extension": ".r",
   "mimetype": "text/x-r-source",
   "name": "R",
   "pygments_lexer": "r",
   "version": "4.3.2"
  }
 },
 "nbformat": 4,
 "nbformat_minor": 5
}
